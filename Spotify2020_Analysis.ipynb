{
  "nbformat": 4,
  "nbformat_minor": 0,
  "metadata": {
    "colab": {
      "name": "Spotify2020_Analysis.ipynb",
      "provenance": [],
      "collapsed_sections": [],
      "authorship_tag": "ABX9TyPdMaUZZbYZF4pAP4dney2M",
      "include_colab_link": true
    },
    "kernelspec": {
      "name": "python3",
      "display_name": "Python 3"
    },
    "language_info": {
      "name": "python"
    }
  },
  "cells": [
    {
      "cell_type": "markdown",
      "metadata": {
        "id": "view-in-github",
        "colab_type": "text"
      },
      "source": [
        "<a href=\"https://colab.research.google.com/github/akankshakumar91/SpotifyDataset2020_Analysis/blob/main/Spotify2020_Analysis.ipynb\" target=\"_parent\"><img src=\"https://colab.research.google.com/assets/colab-badge.svg\" alt=\"Open In Colab\"/></a>"
      ]
    },
    {
      "cell_type": "markdown",
      "metadata": {
        "id": "ttrhFLu-C-eU"
      },
      "source": [
        "\n",
        "\n",
        "```\n",
        "IMPORTING LIBRARIES\n",
        "```\n",
        "\n"
      ]
    },
    {
      "cell_type": "code",
      "metadata": {
        "id": "ZgLhI6sBxEDW"
      },
      "source": [
        "import numpy as np\n",
        "import pandas as pd\n",
        "\n"
      ],
      "execution_count": 113,
      "outputs": []
    },
    {
      "cell_type": "code",
      "metadata": {
        "id": "3T3-Azj4yztb",
        "colab": {
          "base_uri": "https://localhost:8080/"
        },
        "outputId": "c1941366-bab2-4549-c39d-203801b545c5"
      },
      "source": [
        "url = 'https://raw.githubusercontent.com/akankshakumar91/SpotifyDataset2020_Analysis/main/spotify_dataset.csv'\n",
        "\n",
        "spotify_data = pd.read_csv(url, parse_dates=['Release Date'])\n",
        "\n",
        "df = pd.DataFrame(data=spotify_data)\n",
        "df.dtypes"
      ],
      "execution_count": 134,
      "outputs": [
        {
          "output_type": "execute_result",
          "data": {
            "text/plain": [
              "Index                         int64\n",
              "Highest Charting Position     int64\n",
              "Number of Times Charted       int64\n",
              "Week of Highest Charting     object\n",
              "Song Name                    object\n",
              "Streams                      object\n",
              "Artist                       object\n",
              "Artist Followers             object\n",
              "Song ID                      object\n",
              "Genre                        object\n",
              "Release Date                 object\n",
              "Weeks Charted                object\n",
              "Popularity                   object\n",
              "Danceability                 object\n",
              "Energy                       object\n",
              "Loudness                     object\n",
              "Speechiness                  object\n",
              "Acousticness                 object\n",
              "Liveness                     object\n",
              "Tempo                        object\n",
              "Duration (ms)                object\n",
              "Valence                      object\n",
              "Chord                        object\n",
              "dtype: object"
            ]
          },
          "metadata": {},
          "execution_count": 134
        }
      ]
    },
    {
      "cell_type": "code",
      "metadata": {
        "id": "ua6CmgUTbNNS",
        "colab": {
          "base_uri": "https://localhost:8080/",
          "height": 734
        },
        "outputId": "db35d5a1-8da6-4aef-cbab-7c5e5781747a"
      },
      "source": [
        "df.head()"
      ],
      "execution_count": 135,
      "outputs": [
        {
          "output_type": "execute_result",
          "data": {
            "text/html": [
              "<div>\n",
              "<style scoped>\n",
              "    .dataframe tbody tr th:only-of-type {\n",
              "        vertical-align: middle;\n",
              "    }\n",
              "\n",
              "    .dataframe tbody tr th {\n",
              "        vertical-align: top;\n",
              "    }\n",
              "\n",
              "    .dataframe thead th {\n",
              "        text-align: right;\n",
              "    }\n",
              "</style>\n",
              "<table border=\"1\" class=\"dataframe\">\n",
              "  <thead>\n",
              "    <tr style=\"text-align: right;\">\n",
              "      <th></th>\n",
              "      <th>Index</th>\n",
              "      <th>Highest Charting Position</th>\n",
              "      <th>Number of Times Charted</th>\n",
              "      <th>Week of Highest Charting</th>\n",
              "      <th>Song Name</th>\n",
              "      <th>Streams</th>\n",
              "      <th>Artist</th>\n",
              "      <th>Artist Followers</th>\n",
              "      <th>Song ID</th>\n",
              "      <th>Genre</th>\n",
              "      <th>Release Date</th>\n",
              "      <th>Weeks Charted</th>\n",
              "      <th>Popularity</th>\n",
              "      <th>Danceability</th>\n",
              "      <th>Energy</th>\n",
              "      <th>Loudness</th>\n",
              "      <th>Speechiness</th>\n",
              "      <th>Acousticness</th>\n",
              "      <th>Liveness</th>\n",
              "      <th>Tempo</th>\n",
              "      <th>Duration (ms)</th>\n",
              "      <th>Valence</th>\n",
              "      <th>Chord</th>\n",
              "    </tr>\n",
              "  </thead>\n",
              "  <tbody>\n",
              "    <tr>\n",
              "      <th>0</th>\n",
              "      <td>1</td>\n",
              "      <td>1</td>\n",
              "      <td>8</td>\n",
              "      <td>2021-07-23--2021-07-30</td>\n",
              "      <td>Beggin'</td>\n",
              "      <td>48,633,449</td>\n",
              "      <td>Måneskin</td>\n",
              "      <td>3377762</td>\n",
              "      <td>3Wrjm47oTz2sjIgck11l5e</td>\n",
              "      <td>['indie rock italiano', 'italian pop']</td>\n",
              "      <td>2017-12-08</td>\n",
              "      <td>2021-07-23--2021-07-30\\n2021-07-16--2021-07-23...</td>\n",
              "      <td>100</td>\n",
              "      <td>0.714</td>\n",
              "      <td>0.8</td>\n",
              "      <td>-4.808</td>\n",
              "      <td>0.0504</td>\n",
              "      <td>0.127</td>\n",
              "      <td>0.359</td>\n",
              "      <td>134.002</td>\n",
              "      <td>211560</td>\n",
              "      <td>0.589</td>\n",
              "      <td>B</td>\n",
              "    </tr>\n",
              "    <tr>\n",
              "      <th>1</th>\n",
              "      <td>2</td>\n",
              "      <td>2</td>\n",
              "      <td>3</td>\n",
              "      <td>2021-07-23--2021-07-30</td>\n",
              "      <td>STAY (with Justin Bieber)</td>\n",
              "      <td>47,248,719</td>\n",
              "      <td>The Kid LAROI</td>\n",
              "      <td>2230022</td>\n",
              "      <td>5HCyWlXZPP0y6Gqq8TgA20</td>\n",
              "      <td>['australian hip hop']</td>\n",
              "      <td>2021-07-09</td>\n",
              "      <td>2021-07-23--2021-07-30\\n2021-07-16--2021-07-23...</td>\n",
              "      <td>99</td>\n",
              "      <td>0.591</td>\n",
              "      <td>0.764</td>\n",
              "      <td>-5.484</td>\n",
              "      <td>0.0483</td>\n",
              "      <td>0.0383</td>\n",
              "      <td>0.103</td>\n",
              "      <td>169.928</td>\n",
              "      <td>141806</td>\n",
              "      <td>0.478</td>\n",
              "      <td>C#/Db</td>\n",
              "    </tr>\n",
              "    <tr>\n",
              "      <th>2</th>\n",
              "      <td>3</td>\n",
              "      <td>1</td>\n",
              "      <td>11</td>\n",
              "      <td>2021-06-25--2021-07-02</td>\n",
              "      <td>good 4 u</td>\n",
              "      <td>40,162,559</td>\n",
              "      <td>Olivia Rodrigo</td>\n",
              "      <td>6266514</td>\n",
              "      <td>4ZtFanR9U6ndgddUvNcjcG</td>\n",
              "      <td>['pop']</td>\n",
              "      <td>2021-05-21</td>\n",
              "      <td>2021-07-23--2021-07-30\\n2021-07-16--2021-07-23...</td>\n",
              "      <td>99</td>\n",
              "      <td>0.563</td>\n",
              "      <td>0.664</td>\n",
              "      <td>-5.044</td>\n",
              "      <td>0.154</td>\n",
              "      <td>0.335</td>\n",
              "      <td>0.0849</td>\n",
              "      <td>166.928</td>\n",
              "      <td>178147</td>\n",
              "      <td>0.688</td>\n",
              "      <td>A</td>\n",
              "    </tr>\n",
              "    <tr>\n",
              "      <th>3</th>\n",
              "      <td>4</td>\n",
              "      <td>3</td>\n",
              "      <td>5</td>\n",
              "      <td>2021-07-02--2021-07-09</td>\n",
              "      <td>Bad Habits</td>\n",
              "      <td>37,799,456</td>\n",
              "      <td>Ed Sheeran</td>\n",
              "      <td>83293380</td>\n",
              "      <td>6PQ88X9TkUIAUIZJHW2upE</td>\n",
              "      <td>['pop', 'uk pop']</td>\n",
              "      <td>2021-06-25</td>\n",
              "      <td>2021-07-23--2021-07-30\\n2021-07-16--2021-07-23...</td>\n",
              "      <td>98</td>\n",
              "      <td>0.808</td>\n",
              "      <td>0.897</td>\n",
              "      <td>-3.712</td>\n",
              "      <td>0.0348</td>\n",
              "      <td>0.0469</td>\n",
              "      <td>0.364</td>\n",
              "      <td>126.026</td>\n",
              "      <td>231041</td>\n",
              "      <td>0.591</td>\n",
              "      <td>B</td>\n",
              "    </tr>\n",
              "    <tr>\n",
              "      <th>4</th>\n",
              "      <td>5</td>\n",
              "      <td>5</td>\n",
              "      <td>1</td>\n",
              "      <td>2021-07-23--2021-07-30</td>\n",
              "      <td>INDUSTRY BABY (feat. Jack Harlow)</td>\n",
              "      <td>33,948,454</td>\n",
              "      <td>Lil Nas X</td>\n",
              "      <td>5473565</td>\n",
              "      <td>27NovPIUIRrOZoCHxABJwK</td>\n",
              "      <td>['lgbtq+ hip hop', 'pop rap']</td>\n",
              "      <td>2021-07-23</td>\n",
              "      <td>2021-07-23--2021-07-30</td>\n",
              "      <td>96</td>\n",
              "      <td>0.736</td>\n",
              "      <td>0.704</td>\n",
              "      <td>-7.409</td>\n",
              "      <td>0.0615</td>\n",
              "      <td>0.0203</td>\n",
              "      <td>0.0501</td>\n",
              "      <td>149.995</td>\n",
              "      <td>212000</td>\n",
              "      <td>0.894</td>\n",
              "      <td>D#/Eb</td>\n",
              "    </tr>\n",
              "  </tbody>\n",
              "</table>\n",
              "</div>"
            ],
            "text/plain": [
              "   Index  Highest Charting Position  ...  Valence  Chord\n",
              "0      1                          1  ...    0.589      B\n",
              "1      2                          2  ...    0.478  C#/Db\n",
              "2      3                          1  ...    0.688      A\n",
              "3      4                          3  ...    0.591      B\n",
              "4      5                          5  ...    0.894  D#/Eb\n",
              "\n",
              "[5 rows x 23 columns]"
            ]
          },
          "metadata": {},
          "execution_count": 135
        }
      ]
    },
    {
      "cell_type": "markdown",
      "metadata": {
        "id": "mJ-9NhTWbOM3"
      },
      "source": [
        "[Data Selection (Example 1)](https://www.analyseup.com/learn-python-for-data-science/python-pandas-select-drop-rename-columns.html)"
      ]
    },
    {
      "cell_type": "code",
      "metadata": {
        "colab": {
          "base_uri": "https://localhost:8080/"
        },
        "id": "juVkfvFXzYPf",
        "outputId": "cfb58c63-ee27-42fc-9c78-a38f6ce72b05"
      },
      "source": [
        "df.shape"
      ],
      "execution_count": 136,
      "outputs": [
        {
          "output_type": "execute_result",
          "data": {
            "text/plain": [
              "(1556, 23)"
            ]
          },
          "metadata": {},
          "execution_count": 136
        }
      ]
    },
    {
      "cell_type": "code",
      "metadata": {
        "colab": {
          "base_uri": "https://localhost:8080/",
          "height": 297
        },
        "id": "l3JCnrcIUx5X",
        "outputId": "e5348af6-9421-4413-d378-d78d73ddfd9f"
      },
      "source": [
        "df.describe()"
      ],
      "execution_count": 137,
      "outputs": [
        {
          "output_type": "execute_result",
          "data": {
            "text/html": [
              "<div>\n",
              "<style scoped>\n",
              "    .dataframe tbody tr th:only-of-type {\n",
              "        vertical-align: middle;\n",
              "    }\n",
              "\n",
              "    .dataframe tbody tr th {\n",
              "        vertical-align: top;\n",
              "    }\n",
              "\n",
              "    .dataframe thead th {\n",
              "        text-align: right;\n",
              "    }\n",
              "</style>\n",
              "<table border=\"1\" class=\"dataframe\">\n",
              "  <thead>\n",
              "    <tr style=\"text-align: right;\">\n",
              "      <th></th>\n",
              "      <th>Index</th>\n",
              "      <th>Highest Charting Position</th>\n",
              "      <th>Number of Times Charted</th>\n",
              "    </tr>\n",
              "  </thead>\n",
              "  <tbody>\n",
              "    <tr>\n",
              "      <th>count</th>\n",
              "      <td>1556.000000</td>\n",
              "      <td>1556.000000</td>\n",
              "      <td>1556.000000</td>\n",
              "    </tr>\n",
              "    <tr>\n",
              "      <th>mean</th>\n",
              "      <td>778.500000</td>\n",
              "      <td>87.744216</td>\n",
              "      <td>10.668380</td>\n",
              "    </tr>\n",
              "    <tr>\n",
              "      <th>std</th>\n",
              "      <td>449.322824</td>\n",
              "      <td>58.147225</td>\n",
              "      <td>16.360546</td>\n",
              "    </tr>\n",
              "    <tr>\n",
              "      <th>min</th>\n",
              "      <td>1.000000</td>\n",
              "      <td>1.000000</td>\n",
              "      <td>1.000000</td>\n",
              "    </tr>\n",
              "    <tr>\n",
              "      <th>25%</th>\n",
              "      <td>389.750000</td>\n",
              "      <td>37.000000</td>\n",
              "      <td>1.000000</td>\n",
              "    </tr>\n",
              "    <tr>\n",
              "      <th>50%</th>\n",
              "      <td>778.500000</td>\n",
              "      <td>80.000000</td>\n",
              "      <td>4.000000</td>\n",
              "    </tr>\n",
              "    <tr>\n",
              "      <th>75%</th>\n",
              "      <td>1167.250000</td>\n",
              "      <td>137.000000</td>\n",
              "      <td>12.000000</td>\n",
              "    </tr>\n",
              "    <tr>\n",
              "      <th>max</th>\n",
              "      <td>1556.000000</td>\n",
              "      <td>200.000000</td>\n",
              "      <td>142.000000</td>\n",
              "    </tr>\n",
              "  </tbody>\n",
              "</table>\n",
              "</div>"
            ],
            "text/plain": [
              "             Index  Highest Charting Position  Number of Times Charted\n",
              "count  1556.000000                1556.000000              1556.000000\n",
              "mean    778.500000                  87.744216                10.668380\n",
              "std     449.322824                  58.147225                16.360546\n",
              "min       1.000000                   1.000000                 1.000000\n",
              "25%     389.750000                  37.000000                 1.000000\n",
              "50%     778.500000                  80.000000                 4.000000\n",
              "75%    1167.250000                 137.000000                12.000000\n",
              "max    1556.000000                 200.000000               142.000000"
            ]
          },
          "metadata": {},
          "execution_count": 137
        }
      ]
    },
    {
      "cell_type": "code",
      "metadata": {
        "colab": {
          "base_uri": "https://localhost:8080/"
        },
        "id": "d2oh6XDDapVj",
        "outputId": "8fa2e5eb-11a9-4a05-8cbb-9b0188b8668a"
      },
      "source": [
        "df.info()"
      ],
      "execution_count": 138,
      "outputs": [
        {
          "output_type": "stream",
          "name": "stdout",
          "text": [
            "<class 'pandas.core.frame.DataFrame'>\n",
            "RangeIndex: 1556 entries, 0 to 1555\n",
            "Data columns (total 23 columns):\n",
            " #   Column                     Non-Null Count  Dtype \n",
            "---  ------                     --------------  ----- \n",
            " 0   Index                      1556 non-null   int64 \n",
            " 1   Highest Charting Position  1556 non-null   int64 \n",
            " 2   Number of Times Charted    1556 non-null   int64 \n",
            " 3   Week of Highest Charting   1556 non-null   object\n",
            " 4   Song Name                  1556 non-null   object\n",
            " 5   Streams                    1556 non-null   object\n",
            " 6   Artist                     1556 non-null   object\n",
            " 7   Artist Followers           1556 non-null   object\n",
            " 8   Song ID                    1556 non-null   object\n",
            " 9   Genre                      1556 non-null   object\n",
            " 10  Release Date               1556 non-null   object\n",
            " 11  Weeks Charted              1556 non-null   object\n",
            " 12  Popularity                 1556 non-null   object\n",
            " 13  Danceability               1556 non-null   object\n",
            " 14  Energy                     1556 non-null   object\n",
            " 15  Loudness                   1556 non-null   object\n",
            " 16  Speechiness                1556 non-null   object\n",
            " 17  Acousticness               1556 non-null   object\n",
            " 18  Liveness                   1556 non-null   object\n",
            " 19  Tempo                      1556 non-null   object\n",
            " 20  Duration (ms)              1556 non-null   object\n",
            " 21  Valence                    1556 non-null   object\n",
            " 22  Chord                      1556 non-null   object\n",
            "dtypes: int64(3), object(20)\n",
            "memory usage: 279.7+ KB\n"
          ]
        }
      ]
    },
    {
      "cell_type": "code",
      "metadata": {
        "id": "9RUhye6vZGqE"
      },
      "source": [
        "list_quant = ['Index', 'Highest Charting Position', 'Number of Times Charted', 'Streams', 'Artist Followers', \n",
        "                'Popularity', 'Danceability', 'Energy', 'Loudness', 'Speechiness', 'Acousticness', 'Liveness', 'Tempo', 'Duration (ms)', 'Valence']\n",
        "\n",
        "list_chat = ['Week of Highest Charting', 'Song Name', 'Artist', 'Song ID', 'Genre', 'Release Date', 'Weeks Charted', 'Chord']\n",
        "\n",
        "list_dates = ['Week of Highest Charting', 'Release Date', 'Weeks Charted']\n",
        "\n",
        "list_inelig = [' ', '']\n",
        "\n",
        "target = ['Highest Charting Position']"
      ],
      "execution_count": 140,
      "outputs": []
    },
    {
      "cell_type": "code",
      "metadata": {
        "id": "vOUmQ1uU_nWX"
      },
      "source": [
        "# Print column indexes for a data frame\n",
        "\n",
        "def columnIndexes(this_df):\n",
        "  for i in this_df.columns:\n",
        "    indx = this_df.columns.get_loc(i)\n",
        "    print(\"Index: {} | Column : {}\".format(indx, i))"
      ],
      "execution_count": 141,
      "outputs": []
    },
    {
      "cell_type": "code",
      "metadata": {
        "id": "Hea_uep5fv15"
      },
      "source": [
        "# remove leading & trailing spaces from column in dataframe\n",
        "\n",
        "def removeSpaceFromDf(this_df):\n",
        "  for i in this_df.columns:\n",
        "    this_df[i] = this_df[i].str.strip()\n",
        "    print('Removing space from column : {}', format(i))\n",
        "  return this_df"
      ],
      "execution_count": 142,
      "outputs": []
    },
    {
      "cell_type": "code",
      "metadata": {
        "id": "HLsd0dBwItps"
      },
      "source": [
        "# remove character from dataframe\n",
        "\n",
        "def removeCharFromDf(this_df, rm_list=[]):\n",
        "  for i in this_df.columns:\n",
        "    this_df[i] = this_df[i].str.replace(rm_list, '')\n",
        "  return this_df\n"
      ],
      "execution_count": 143,
      "outputs": []
    },
    {
      "cell_type": "code",
      "metadata": {
        "id": "vNcOkqmsl05q"
      },
      "source": [
        "# remove leading & trailing spaces from column in dataframe\n",
        "\n",
        "def convertToNumericDf(this_df):\n",
        "  for i in this_df.columns:\n",
        "    this_df[i] = pd.to_numeric(this_df[i], errors='coerce')\n",
        "    print('Converted to numeric column : {}', format(i))\n",
        "  return this_df"
      ],
      "execution_count": 144,
      "outputs": []
    },
    {
      "cell_type": "code",
      "metadata": {
        "id": "Pu12CYvVXsjF"
      },
      "source": [
        "# list unique values\n",
        "\n",
        "def listUniqueVals(this_df):\n",
        "  for i in this_df.colnames:\n",
        "    print(' Colnames =')"
      ],
      "execution_count": 145,
      "outputs": []
    },
    {
      "cell_type": "code",
      "metadata": {
        "colab": {
          "base_uri": "https://localhost:8080/"
        },
        "id": "aR0vY3kiASxE",
        "outputId": "10e761ae-2d49-494e-a030-3c57ca63ad75"
      },
      "source": [
        "columnIndexes(spotify_data)"
      ],
      "execution_count": 146,
      "outputs": [
        {
          "output_type": "stream",
          "name": "stdout",
          "text": [
            "Index: 0 | Column : Index\n",
            "Index: 1 | Column : Highest Charting Position\n",
            "Index: 2 | Column : Number of Times Charted\n",
            "Index: 3 | Column : Week of Highest Charting\n",
            "Index: 4 | Column : Song Name\n",
            "Index: 5 | Column : Streams\n",
            "Index: 6 | Column : Artist\n",
            "Index: 7 | Column : Artist Followers\n",
            "Index: 8 | Column : Song ID\n",
            "Index: 9 | Column : Genre\n",
            "Index: 10 | Column : Release Date\n",
            "Index: 11 | Column : Weeks Charted\n",
            "Index: 12 | Column : Popularity\n",
            "Index: 13 | Column : Danceability\n",
            "Index: 14 | Column : Energy\n",
            "Index: 15 | Column : Loudness\n",
            "Index: 16 | Column : Speechiness\n",
            "Index: 17 | Column : Acousticness\n",
            "Index: 18 | Column : Liveness\n",
            "Index: 19 | Column : Tempo\n",
            "Index: 20 | Column : Duration (ms)\n",
            "Index: 21 | Column : Valence\n",
            "Index: 22 | Column : Chord\n"
          ]
        }
      ]
    },
    {
      "cell_type": "code",
      "metadata": {
        "colab": {
          "base_uri": "https://localhost:8080/"
        },
        "id": "Mfzt-rHMeLUB",
        "outputId": "13b8d8d5-a570-462f-ac19-328bb981a791"
      },
      "source": [
        "# convert columns to numeric\n",
        "df_temp = removeSpaceFromDf(df.iloc[:,12:22])\n",
        "df_temp = convertToNumericDf(df_temp)\n",
        "df.iloc[:,12:22] = df_temp\n",
        "\n",
        "df_temp = df.iloc[:,[7]]\n",
        "df_temp = convertToNumericDf(df_temp)\n",
        "df.iloc[:,[7]] = df_temp"
      ],
      "execution_count": 147,
      "outputs": [
        {
          "output_type": "stream",
          "name": "stdout",
          "text": [
            "Removing space from column : {} Popularity\n",
            "Removing space from column : {} Danceability\n",
            "Removing space from column : {} Energy\n",
            "Removing space from column : {} Loudness\n",
            "Removing space from column : {} Speechiness\n",
            "Removing space from column : {} Acousticness\n",
            "Removing space from column : {} Liveness\n",
            "Removing space from column : {} Tempo\n",
            "Removing space from column : {} Duration (ms)\n",
            "Removing space from column : {} Valence\n",
            "Converted to numeric column : {} Popularity\n",
            "Converted to numeric column : {} Danceability\n",
            "Converted to numeric column : {} Energy\n",
            "Converted to numeric column : {} Loudness\n",
            "Converted to numeric column : {} Speechiness\n",
            "Converted to numeric column : {} Acousticness\n",
            "Converted to numeric column : {} Liveness\n",
            "Converted to numeric column : {} Tempo\n",
            "Converted to numeric column : {} Duration (ms)\n",
            "Converted to numeric column : {} Valence\n",
            "Converted to numeric column : {} Artist Followers\n"
          ]
        },
        {
          "output_type": "stream",
          "name": "stderr",
          "text": [
            "/usr/local/lib/python3.7/dist-packages/ipykernel_launcher.py:5: SettingWithCopyWarning: \n",
            "A value is trying to be set on a copy of a slice from a DataFrame.\n",
            "Try using .loc[row_indexer,col_indexer] = value instead\n",
            "\n",
            "See the caveats in the documentation: https://pandas.pydata.org/pandas-docs/stable/user_guide/indexing.html#returning-a-view-versus-a-copy\n",
            "  \"\"\"\n"
          ]
        }
      ]
    },
    {
      "cell_type": "code",
      "metadata": {
        "colab": {
          "base_uri": "https://localhost:8080/",
          "height": 351
        },
        "id": "K1HrYKSsnAB6",
        "outputId": "8b34d8da-5895-46bd-b426-0948e2b9c8d3"
      },
      "source": [
        "df.describe()"
      ],
      "execution_count": 148,
      "outputs": [
        {
          "output_type": "execute_result",
          "data": {
            "text/html": [
              "<div>\n",
              "<style scoped>\n",
              "    .dataframe tbody tr th:only-of-type {\n",
              "        vertical-align: middle;\n",
              "    }\n",
              "\n",
              "    .dataframe tbody tr th {\n",
              "        vertical-align: top;\n",
              "    }\n",
              "\n",
              "    .dataframe thead th {\n",
              "        text-align: right;\n",
              "    }\n",
              "</style>\n",
              "<table border=\"1\" class=\"dataframe\">\n",
              "  <thead>\n",
              "    <tr style=\"text-align: right;\">\n",
              "      <th></th>\n",
              "      <th>Index</th>\n",
              "      <th>Highest Charting Position</th>\n",
              "      <th>Number of Times Charted</th>\n",
              "      <th>Artist Followers</th>\n",
              "      <th>Popularity</th>\n",
              "      <th>Danceability</th>\n",
              "      <th>Energy</th>\n",
              "      <th>Loudness</th>\n",
              "      <th>Speechiness</th>\n",
              "      <th>Acousticness</th>\n",
              "      <th>Liveness</th>\n",
              "      <th>Tempo</th>\n",
              "      <th>Duration (ms)</th>\n",
              "      <th>Valence</th>\n",
              "    </tr>\n",
              "  </thead>\n",
              "  <tbody>\n",
              "    <tr>\n",
              "      <th>count</th>\n",
              "      <td>1556.000000</td>\n",
              "      <td>1556.000000</td>\n",
              "      <td>1556.000000</td>\n",
              "      <td>1.545000e+03</td>\n",
              "      <td>1545.000000</td>\n",
              "      <td>1545.000000</td>\n",
              "      <td>1545.000000</td>\n",
              "      <td>1545.000000</td>\n",
              "      <td>1545.000000</td>\n",
              "      <td>1545.000000</td>\n",
              "      <td>1545.000000</td>\n",
              "      <td>1545.000000</td>\n",
              "      <td>1545.000000</td>\n",
              "      <td>1545.000000</td>\n",
              "    </tr>\n",
              "    <tr>\n",
              "      <th>mean</th>\n",
              "      <td>778.500000</td>\n",
              "      <td>87.744216</td>\n",
              "      <td>10.668380</td>\n",
              "      <td>1.471690e+07</td>\n",
              "      <td>70.089320</td>\n",
              "      <td>0.689997</td>\n",
              "      <td>0.633495</td>\n",
              "      <td>-6.348474</td>\n",
              "      <td>0.123656</td>\n",
              "      <td>0.248695</td>\n",
              "      <td>0.181202</td>\n",
              "      <td>122.811023</td>\n",
              "      <td>197940.816828</td>\n",
              "      <td>0.514704</td>\n",
              "    </tr>\n",
              "    <tr>\n",
              "      <th>std</th>\n",
              "      <td>449.322824</td>\n",
              "      <td>58.147225</td>\n",
              "      <td>16.360546</td>\n",
              "      <td>1.667579e+07</td>\n",
              "      <td>15.824034</td>\n",
              "      <td>0.142444</td>\n",
              "      <td>0.161577</td>\n",
              "      <td>2.509281</td>\n",
              "      <td>0.110383</td>\n",
              "      <td>0.250326</td>\n",
              "      <td>0.144071</td>\n",
              "      <td>29.591088</td>\n",
              "      <td>47148.930420</td>\n",
              "      <td>0.227326</td>\n",
              "    </tr>\n",
              "    <tr>\n",
              "      <th>min</th>\n",
              "      <td>1.000000</td>\n",
              "      <td>1.000000</td>\n",
              "      <td>1.000000</td>\n",
              "      <td>4.883000e+03</td>\n",
              "      <td>0.000000</td>\n",
              "      <td>0.150000</td>\n",
              "      <td>0.054000</td>\n",
              "      <td>-25.166000</td>\n",
              "      <td>0.023200</td>\n",
              "      <td>0.000025</td>\n",
              "      <td>0.019700</td>\n",
              "      <td>46.718000</td>\n",
              "      <td>30133.000000</td>\n",
              "      <td>0.032000</td>\n",
              "    </tr>\n",
              "    <tr>\n",
              "      <th>25%</th>\n",
              "      <td>389.750000</td>\n",
              "      <td>37.000000</td>\n",
              "      <td>1.000000</td>\n",
              "      <td>2.123734e+06</td>\n",
              "      <td>65.000000</td>\n",
              "      <td>0.599000</td>\n",
              "      <td>0.532000</td>\n",
              "      <td>-7.491000</td>\n",
              "      <td>0.045600</td>\n",
              "      <td>0.048500</td>\n",
              "      <td>0.096600</td>\n",
              "      <td>97.960000</td>\n",
              "      <td>169266.000000</td>\n",
              "      <td>0.343000</td>\n",
              "    </tr>\n",
              "    <tr>\n",
              "      <th>50%</th>\n",
              "      <td>778.500000</td>\n",
              "      <td>80.000000</td>\n",
              "      <td>4.000000</td>\n",
              "      <td>6.852509e+06</td>\n",
              "      <td>73.000000</td>\n",
              "      <td>0.707000</td>\n",
              "      <td>0.642000</td>\n",
              "      <td>-5.990000</td>\n",
              "      <td>0.076500</td>\n",
              "      <td>0.161000</td>\n",
              "      <td>0.124000</td>\n",
              "      <td>122.012000</td>\n",
              "      <td>193591.000000</td>\n",
              "      <td>0.512000</td>\n",
              "    </tr>\n",
              "    <tr>\n",
              "      <th>75%</th>\n",
              "      <td>1167.250000</td>\n",
              "      <td>137.000000</td>\n",
              "      <td>12.000000</td>\n",
              "      <td>2.269875e+07</td>\n",
              "      <td>80.000000</td>\n",
              "      <td>0.796000</td>\n",
              "      <td>0.752000</td>\n",
              "      <td>-4.711000</td>\n",
              "      <td>0.165000</td>\n",
              "      <td>0.388000</td>\n",
              "      <td>0.217000</td>\n",
              "      <td>143.860000</td>\n",
              "      <td>218902.000000</td>\n",
              "      <td>0.691000</td>\n",
              "    </tr>\n",
              "    <tr>\n",
              "      <th>max</th>\n",
              "      <td>1556.000000</td>\n",
              "      <td>200.000000</td>\n",
              "      <td>142.000000</td>\n",
              "      <td>8.333778e+07</td>\n",
              "      <td>100.000000</td>\n",
              "      <td>0.980000</td>\n",
              "      <td>0.970000</td>\n",
              "      <td>1.509000</td>\n",
              "      <td>0.884000</td>\n",
              "      <td>0.994000</td>\n",
              "      <td>0.962000</td>\n",
              "      <td>205.272000</td>\n",
              "      <td>588139.000000</td>\n",
              "      <td>0.979000</td>\n",
              "    </tr>\n",
              "  </tbody>\n",
              "</table>\n",
              "</div>"
            ],
            "text/plain": [
              "             Index  Highest Charting Position  ...  Duration (ms)      Valence\n",
              "count  1556.000000                1556.000000  ...    1545.000000  1545.000000\n",
              "mean    778.500000                  87.744216  ...  197940.816828     0.514704\n",
              "std     449.322824                  58.147225  ...   47148.930420     0.227326\n",
              "min       1.000000                   1.000000  ...   30133.000000     0.032000\n",
              "25%     389.750000                  37.000000  ...  169266.000000     0.343000\n",
              "50%     778.500000                  80.000000  ...  193591.000000     0.512000\n",
              "75%    1167.250000                 137.000000  ...  218902.000000     0.691000\n",
              "max    1556.000000                 200.000000  ...  588139.000000     0.979000\n",
              "\n",
              "[8 rows x 14 columns]"
            ]
          },
          "metadata": {},
          "execution_count": 148
        }
      ]
    },
    {
      "cell_type": "code",
      "metadata": {
        "colab": {
          "base_uri": "https://localhost:8080/"
        },
        "id": "ac3BFhoZIUdM",
        "outputId": "4f74e025-3884-4455-b7c1-cd782d5fd008"
      },
      "source": [
        "df = df.dropna()\n",
        "df.shape"
      ],
      "execution_count": 150,
      "outputs": [
        {
          "output_type": "execute_result",
          "data": {
            "text/plain": [
              "(1545, 23)"
            ]
          },
          "metadata": {},
          "execution_count": 150
        }
      ]
    },
    {
      "cell_type": "code",
      "metadata": {
        "id": "3l-EXz5ZUpQI"
      },
      "source": [
        ""
      ],
      "execution_count": 91,
      "outputs": []
    },
    {
      "cell_type": "code",
      "metadata": {
        "id": "N-h6vWRrW0i8"
      },
      "source": [
        ""
      ],
      "execution_count": 151,
      "outputs": []
    },
    {
      "cell_type": "code",
      "metadata": {
        "id": "hUeUn4O9rCm4"
      },
      "source": [
        "# convert date\n",
        "\n",
        "df_temp = df['Release Date']\n",
        "df_temp = pd.to_datetime(df_temp, format=\"%Y-%m-%d\", errors='coerce')\n",
        "df['Release Date'] = df_temp"
      ],
      "execution_count": 152,
      "outputs": []
    },
    {
      "cell_type": "code",
      "metadata": {
        "id": "OfJHw7mFr0_E"
      },
      "source": [
        ""
      ],
      "execution_count": 105,
      "outputs": []
    },
    {
      "cell_type": "code",
      "metadata": {
        "id": "EZazxILUC9F8"
      },
      "source": [
        ""
      ],
      "execution_count": 98,
      "outputs": []
    },
    {
      "cell_type": "markdown",
      "metadata": {
        "id": "2OH3QIZDjmig"
      },
      "source": [
        "[SciKit-Learn](https://scikit-learn.org/stable/user_guide.html)\n",
        "\n",
        "[Preprocessing](https://scikit-learn.org/stable/modules/preprocessing.html#)\n",
        "\n",
        "[Seaborn](https://seaborn.pydata.org/tutorial/function_overview.html)"
      ]
    },
    {
      "cell_type": "code",
      "metadata": {
        "id": "yWWzVjoLHJwb"
      },
      "source": [
        "from sklearn.model_selection import train_test_split\n",
        "from sklearn.model_selection import cross_val_score\n",
        "from sklearn.ensemble import RandomForestRegressor\n",
        "from sklearn.ensemble import RandomForestClassifier\n",
        "\n",
        "from matplotlib import pyplot"
      ],
      "execution_count": 196,
      "outputs": []
    },
    {
      "cell_type": "code",
      "metadata": {
        "id": "LrF4ZEFhmDec"
      },
      "source": [
        "# To Preserve the original dataframe\n",
        "#dfall = df"
      ],
      "execution_count": 155,
      "outputs": []
    },
    {
      "cell_type": "code",
      "metadata": {
        "id": "4UUKKRMwpoEn"
      },
      "source": [
        "df = dfall"
      ],
      "execution_count": 204,
      "outputs": []
    },
    {
      "cell_type": "code",
      "metadata": {
        "id": "Mf6BRT-Hnyyl"
      },
      "source": [
        "# dropping more columns\n",
        "\n",
        "list_cols_drop = ['Weeks Charted','Week of Highest Charting', 'Release Date']\n",
        "df = df.drop(list_cols_drop, axis=1)"
      ],
      "execution_count": 205,
      "outputs": []
    },
    {
      "cell_type": "code",
      "metadata": {
        "id": "aKQVNLMnlivh"
      },
      "source": [
        "\n",
        "\n",
        "y = df[target]\n",
        "df_x = df[list_quant]\n",
        "X = df_x.drop(target, axis=1)\n",
        "X = df_x.drop(['Streams', 'Index', 'Highest Charting Position'],axis=1)\n",
        "\n",
        "\n",
        "X_train, X_test, y_train, y_test = train_test_split(X, y, test_size=0.33, random_state=42)\n",
        "\n"
      ],
      "execution_count": 206,
      "outputs": []
    },
    {
      "cell_type": "markdown",
      "metadata": {
        "id": "-AaqcOqOwJMD"
      },
      "source": [
        "[Feature Selection](https://machinelearningmastery.com/calculate-feature-importance-with-python/)"
      ]
    },
    {
      "cell_type": "code",
      "metadata": {
        "id": "CuK9b_K2wIxj"
      },
      "source": [
        ""
      ],
      "execution_count": null,
      "outputs": []
    },
    {
      "cell_type": "code",
      "metadata": {
        "colab": {
          "base_uri": "https://localhost:8080/",
          "height": 523
        },
        "id": "fiLmgmntteAR",
        "outputId": "c28c0201-ee99-4faf-f56c-8ca9d63f541c"
      },
      "source": [
        "# Feature Selection\n",
        "\n",
        "model = RandomForestRegressor()\n",
        "model.fit(X_train, y_train)\n",
        "importance = model.feature_importances_\n",
        "\n",
        "# summarize feature importance\n",
        "for i,v in enumerate(importance):\n",
        "\tprint('Feature: %0d, Score: %.5f' % (i,v))\n",
        "# plot feature importance\n",
        "pyplot.bar([x for x in range(len(importance))], importance)\n",
        "pyplot.show()"
      ],
      "execution_count": 208,
      "outputs": [
        {
          "output_type": "stream",
          "name": "stderr",
          "text": [
            "/usr/local/lib/python3.7/dist-packages/ipykernel_launcher.py:4: DataConversionWarning: A column-vector y was passed when a 1d array was expected. Please change the shape of y to (n_samples,), for example using ravel().\n",
            "  after removing the cwd from sys.path.\n"
          ]
        },
        {
          "output_type": "stream",
          "name": "stdout",
          "text": [
            "Feature: 0, Score: 0.37615\n",
            "Feature: 1, Score: 0.12314\n",
            "Feature: 2, Score: 0.09679\n",
            "Feature: 3, Score: 0.04767\n",
            "Feature: 4, Score: 0.04265\n",
            "Feature: 5, Score: 0.05251\n",
            "Feature: 6, Score: 0.04966\n",
            "Feature: 7, Score: 0.04596\n",
            "Feature: 8, Score: 0.03704\n",
            "Feature: 9, Score: 0.04113\n",
            "Feature: 10, Score: 0.04091\n",
            "Feature: 11, Score: 0.04638\n"
          ]
        },
        {
          "output_type": "display_data",
          "data": {
            "image/png": "[encoded data removed]",
            "text/plain": [
              "<Figure size 432x288 with 1 Axes>"
            ]
          },
          "metadata": {
            "needs_background": "light"
          }
        }
      ]
    },
    {
      "cell_type": "code",
      "metadata": {
        "colab": {
          "base_uri": "https://localhost:8080/"
        },
        "id": "4xcxYkiTu7Wo",
        "outputId": "e81b855e-5732-4657-fa96-17b235726f79"
      },
      "source": [
        "X.columns"
      ],
      "execution_count": 207,
      "outputs": [
        {
          "output_type": "execute_result",
          "data": {
            "text/plain": [
              "Index(['Number of Times Charted', 'Artist Followers', 'Popularity',\n",
              "       'Danceability', 'Energy', 'Loudness', 'Speechiness', 'Acousticness',\n",
              "       'Liveness', 'Tempo', 'Duration (ms)', 'Valence'],\n",
              "      dtype='object')"
            ]
          },
          "metadata": {},
          "execution_count": 207
        }
      ]
    },
    {
      "cell_type": "code",
      "metadata": {
        "colab": {
          "base_uri": "https://localhost:8080/"
        },
        "id": "jgbUl0sdsNoK",
        "outputId": "ac66355a-95de-487a-f71b-89b3b10a1981"
      },
      "source": [
        "clf = RandomForestClassifier(n_estimators=100)\n",
        "clf.fit(X_train,y_train)\n",
        "scores = cross_val_score(clf, X, y, cv=5)\n",
        "scores.mean()"
      ],
      "execution_count": 193,
      "outputs": [
        {
          "output_type": "stream",
          "name": "stderr",
          "text": [
            "/usr/local/lib/python3.7/dist-packages/ipykernel_launcher.py:2: DataConversionWarning: A column-vector y was passed when a 1d array was expected. Please change the shape of y to (n_samples,), for example using ravel().\n",
            "  \n",
            "/usr/local/lib/python3.7/dist-packages/sklearn/model_selection/_split.py:667: UserWarning: The least populated class in y has only 1 members, which is less than n_splits=5.\n",
            "  % (min_groups, self.n_splits)), UserWarning)\n",
            "/usr/local/lib/python3.7/dist-packages/sklearn/model_selection/_validation.py:515: DataConversionWarning: A column-vector y was passed when a 1d array was expected. Please change the shape of y to (n_samples,), for example using ravel().\n",
            "  estimator.fit(X_train, y_train, **fit_params)\n",
            "/usr/local/lib/python3.7/dist-packages/sklearn/model_selection/_validation.py:515: DataConversionWarning: A column-vector y was passed when a 1d array was expected. Please change the shape of y to (n_samples,), for example using ravel().\n",
            "  estimator.fit(X_train, y_train, **fit_params)\n",
            "/usr/local/lib/python3.7/dist-packages/sklearn/model_selection/_validation.py:515: DataConversionWarning: A column-vector y was passed when a 1d array was expected. Please change the shape of y to (n_samples,), for example using ravel().\n",
            "  estimator.fit(X_train, y_train, **fit_params)\n",
            "/usr/local/lib/python3.7/dist-packages/sklearn/model_selection/_validation.py:515: DataConversionWarning: A column-vector y was passed when a 1d array was expected. Please change the shape of y to (n_samples,), for example using ravel().\n",
            "  estimator.fit(X_train, y_train, **fit_params)\n",
            "/usr/local/lib/python3.7/dist-packages/sklearn/model_selection/_validation.py:515: DataConversionWarning: A column-vector y was passed when a 1d array was expected. Please change the shape of y to (n_samples,), for example using ravel().\n",
            "  estimator.fit(X_train, y_train, **fit_params)\n"
          ]
        },
        {
          "output_type": "execute_result",
          "data": {
            "text/plain": [
              "0.227831715210356"
            ]
          },
          "metadata": {},
          "execution_count": 193
        }
      ]
    },
    {
      "cell_type": "code",
      "metadata": {
        "id": "DZTb7TbcoT_x"
      },
      "source": [
        ""
      ],
      "execution_count": 193,
      "outputs": []
    }
  ]
}