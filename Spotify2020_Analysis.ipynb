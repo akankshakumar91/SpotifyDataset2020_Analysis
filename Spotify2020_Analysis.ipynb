{
  "nbformat": 4,
  "nbformat_minor": 0,
  "metadata": {
    "colab": {
      "name": "Spotify2020_Analysis.ipynb",
      "provenance": [],
      "authorship_tag": "ABX9TyMTqVjFAJvIgVIcJXBdBtMz",
      "include_colab_link": true
    },
    "kernelspec": {
      "name": "python3",
      "display_name": "Python 3"
    },
    "language_info": {
      "name": "python"
    }
  },
  "cells": [
    {
      "cell_type": "markdown",
      "metadata": {
        "id": "view-in-github",
        "colab_type": "text"
      },
      "source": [
        "<a href=\"https://colab.research.google.com/github/akankshakumar91/SpotifyDataset2020_Analysis/blob/main/Spotify2020_Analysis.ipynb\" target=\"_parent\"><img src=\"https://colab.research.google.com/assets/colab-badge.svg\" alt=\"Open In Colab\"/></a>"
      ]
    },
    {
      "cell_type": "markdown",
      "metadata": {
        "id": "ttrhFLu-C-eU"
      },
      "source": [
        "\n",
        "\n",
        "```\n",
        "IMPORTING LIBRARIES\n",
        "```\n",
        "\n"
      ]
    },
    {
      "cell_type": "code",
      "metadata": {
        "id": "ZgLhI6sBxEDW"
      },
      "source": [
        "import numpy as np\n",
        "import pandas as pd\n",
        "\n",
        "from sklearn import preprocessing"
      ],
      "execution_count": 2,
      "outputs": []
    },
    {
      "cell_type": "code",
      "metadata": {
        "id": "3T3-Azj4yztb",
        "colab": {
          "base_uri": "https://localhost:8080/"
        },
        "outputId": "61d88ca4-89b7-4c6e-c0c4-fcae7526058e"
      },
      "source": [
        "url = 'https://raw.githubusercontent.com/akankshakumar91/SpotifyDataset2020_Analysis/main/spotify_dataset.csv'\n",
        "\n",
        "spotify_data = pd.read_csv(url, parse_dates=['Release Date'])\n",
        "\n",
        "df = pd.DataFrame(data=spotify_data)\n",
        "df.dtypes"
      ],
      "execution_count": 3,
      "outputs": [
        {
          "output_type": "execute_result",
          "data": {
            "text/plain": [
              "Index                         int64\n",
              "Highest Charting Position     int64\n",
              "Number of Times Charted       int64\n",
              "Week of Highest Charting     object\n",
              "Song Name                    object\n",
              "Streams                      object\n",
              "Artist                       object\n",
              "Artist Followers             object\n",
              "Song ID                      object\n",
              "Genre                        object\n",
              "Release Date                 object\n",
              "Weeks Charted                object\n",
              "Popularity                   object\n",
              "Danceability                 object\n",
              "Energy                       object\n",
              "Loudness                     object\n",
              "Speechiness                  object\n",
              "Acousticness                 object\n",
              "Liveness                     object\n",
              "Tempo                        object\n",
              "Duration (ms)                object\n",
              "Valence                      object\n",
              "Chord                        object\n",
              "dtype: object"
            ]
          },
          "metadata": {},
          "execution_count": 3
        }
      ]
    },
    {
      "cell_type": "code",
      "metadata": {
        "id": "ua6CmgUTbNNS"
      },
      "source": [
        ""
      ],
      "execution_count": null,
      "outputs": []
    },
    {
      "cell_type": "markdown",
      "metadata": {
        "id": "mJ-9NhTWbOM3"
      },
      "source": [
        "[Data Selection (Example 1)](https://www.analyseup.com/learn-python-for-data-science/python-pandas-select-drop-rename-columns.html)"
      ]
    },
    {
      "cell_type": "code",
      "metadata": {
        "colab": {
          "base_uri": "https://localhost:8080/"
        },
        "id": "juVkfvFXzYPf",
        "outputId": "7f756b75-b405-4894-ed98-805614d76138"
      },
      "source": [
        "df.shape"
      ],
      "execution_count": 4,
      "outputs": [
        {
          "output_type": "execute_result",
          "data": {
            "text/plain": [
              "(1556, 23)"
            ]
          },
          "metadata": {},
          "execution_count": 4
        }
      ]
    },
    {
      "cell_type": "code",
      "metadata": {
        "colab": {
          "base_uri": "https://localhost:8080/",
          "height": 297
        },
        "id": "l3JCnrcIUx5X",
        "outputId": "f93f630b-fd95-4d86-cfe9-f35ecd1e5db8"
      },
      "source": [
        "df.describe()"
      ],
      "execution_count": 5,
      "outputs": [
        {
          "output_type": "execute_result",
          "data": {
            "text/html": [
              "<div>\n",
              "<style scoped>\n",
              "    .dataframe tbody tr th:only-of-type {\n",
              "        vertical-align: middle;\n",
              "    }\n",
              "\n",
              "    .dataframe tbody tr th {\n",
              "        vertical-align: top;\n",
              "    }\n",
              "\n",
              "    .dataframe thead th {\n",
              "        text-align: right;\n",
              "    }\n",
              "</style>\n",
              "<table border=\"1\" class=\"dataframe\">\n",
              "  <thead>\n",
              "    <tr style=\"text-align: right;\">\n",
              "      <th></th>\n",
              "      <th>Index</th>\n",
              "      <th>Highest Charting Position</th>\n",
              "      <th>Number of Times Charted</th>\n",
              "    </tr>\n",
              "  </thead>\n",
              "  <tbody>\n",
              "    <tr>\n",
              "      <th>count</th>\n",
              "      <td>1556.000000</td>\n",
              "      <td>1556.000000</td>\n",
              "      <td>1556.000000</td>\n",
              "    </tr>\n",
              "    <tr>\n",
              "      <th>mean</th>\n",
              "      <td>778.500000</td>\n",
              "      <td>87.744216</td>\n",
              "      <td>10.668380</td>\n",
              "    </tr>\n",
              "    <tr>\n",
              "      <th>std</th>\n",
              "      <td>449.322824</td>\n",
              "      <td>58.147225</td>\n",
              "      <td>16.360546</td>\n",
              "    </tr>\n",
              "    <tr>\n",
              "      <th>min</th>\n",
              "      <td>1.000000</td>\n",
              "      <td>1.000000</td>\n",
              "      <td>1.000000</td>\n",
              "    </tr>\n",
              "    <tr>\n",
              "      <th>25%</th>\n",
              "      <td>389.750000</td>\n",
              "      <td>37.000000</td>\n",
              "      <td>1.000000</td>\n",
              "    </tr>\n",
              "    <tr>\n",
              "      <th>50%</th>\n",
              "      <td>778.500000</td>\n",
              "      <td>80.000000</td>\n",
              "      <td>4.000000</td>\n",
              "    </tr>\n",
              "    <tr>\n",
              "      <th>75%</th>\n",
              "      <td>1167.250000</td>\n",
              "      <td>137.000000</td>\n",
              "      <td>12.000000</td>\n",
              "    </tr>\n",
              "    <tr>\n",
              "      <th>max</th>\n",
              "      <td>1556.000000</td>\n",
              "      <td>200.000000</td>\n",
              "      <td>142.000000</td>\n",
              "    </tr>\n",
              "  </tbody>\n",
              "</table>\n",
              "</div>"
            ],
            "text/plain": [
              "             Index  Highest Charting Position  Number of Times Charted\n",
              "count  1556.000000                1556.000000              1556.000000\n",
              "mean    778.500000                  87.744216                10.668380\n",
              "std     449.322824                  58.147225                16.360546\n",
              "min       1.000000                   1.000000                 1.000000\n",
              "25%     389.750000                  37.000000                 1.000000\n",
              "50%     778.500000                  80.000000                 4.000000\n",
              "75%    1167.250000                 137.000000                12.000000\n",
              "max    1556.000000                 200.000000               142.000000"
            ]
          },
          "metadata": {},
          "execution_count": 5
        }
      ]
    },
    {
      "cell_type": "code",
      "metadata": {
        "colab": {
          "base_uri": "https://localhost:8080/"
        },
        "id": "d2oh6XDDapVj",
        "outputId": "fa3a8fab-7be1-4d80-971d-9830a3f0425f"
      },
      "source": [
        "df.info()"
      ],
      "execution_count": 6,
      "outputs": [
        {
          "output_type": "stream",
          "name": "stdout",
          "text": [
            "<class 'pandas.core.frame.DataFrame'>\n",
            "RangeIndex: 1556 entries, 0 to 1555\n",
            "Data columns (total 23 columns):\n",
            " #   Column                     Non-Null Count  Dtype \n",
            "---  ------                     --------------  ----- \n",
            " 0   Index                      1556 non-null   int64 \n",
            " 1   Highest Charting Position  1556 non-null   int64 \n",
            " 2   Number of Times Charted    1556 non-null   int64 \n",
            " 3   Week of Highest Charting   1556 non-null   object\n",
            " 4   Song Name                  1556 non-null   object\n",
            " 5   Streams                    1556 non-null   object\n",
            " 6   Artist                     1556 non-null   object\n",
            " 7   Artist Followers           1556 non-null   object\n",
            " 8   Song ID                    1556 non-null   object\n",
            " 9   Genre                      1556 non-null   object\n",
            " 10  Release Date               1556 non-null   object\n",
            " 11  Weeks Charted              1556 non-null   object\n",
            " 12  Popularity                 1556 non-null   object\n",
            " 13  Danceability               1556 non-null   object\n",
            " 14  Energy                     1556 non-null   object\n",
            " 15  Loudness                   1556 non-null   object\n",
            " 16  Speechiness                1556 non-null   object\n",
            " 17  Acousticness               1556 non-null   object\n",
            " 18  Liveness                   1556 non-null   object\n",
            " 19  Tempo                      1556 non-null   object\n",
            " 20  Duration (ms)              1556 non-null   object\n",
            " 21  Valence                    1556 non-null   object\n",
            " 22  Chord                      1556 non-null   object\n",
            "dtypes: int64(3), object(20)\n",
            "memory usage: 279.7+ KB\n"
          ]
        }
      ]
    },
    {
      "cell_type": "code",
      "metadata": {
        "id": "9RUhye6vZGqE"
      },
      "source": [
        "list_quant = ['Index', 'Highest Charting Position', 'Number of Times Charted', 'Streams', 'Artist Followers', \n",
        "                'Popularity', 'Danceability', 'Energy', 'Loudness', 'Speechiness', 'Acousticness', 'Liveness', 'Tempo', 'Duration (ms)', 'Valence']\n",
        "\n",
        "list_chat = ['Week of Highest Charting', 'Song Name', 'Artist', 'Song ID', 'Genre', 'Release Date', 'Weeks Charted', 'Chord']\n",
        "\n",
        "list_dates = ['Week of Highest Charting', 'Release Date', 'Weeks Charted']\n",
        "\n",
        "list_inelig = [' ', '']"
      ],
      "execution_count": 7,
      "outputs": []
    },
    {
      "cell_type": "code",
      "metadata": {
        "id": "vOUmQ1uU_nWX"
      },
      "source": [
        "# Print column indexes for a data frame\n",
        "\n",
        "def columnIndexes(this_df):\n",
        "  for i in this_df.columns:\n",
        "    indx = this_df.columns.get_loc(i)\n",
        "    print(\"Index: {} | Column : {}\".format(indx, i))"
      ],
      "execution_count": 8,
      "outputs": []
    },
    {
      "cell_type": "code",
      "metadata": {
        "id": "Hea_uep5fv15"
      },
      "source": [
        "# remove leading & trailing spaces from column in dataframe\n",
        "\n",
        "def removeSpaceFromDf(this_df):\n",
        "  for i in this_df.columns:\n",
        "    this_df[i] = this_df[i].str.strip()\n",
        "    print('Removing space from column : {}', format(i))\n",
        "  return this_df"
      ],
      "execution_count": 9,
      "outputs": []
    },
    {
      "cell_type": "code",
      "metadata": {
        "id": "vNcOkqmsl05q"
      },
      "source": [
        "# remove leading & trailing spaces from column in dataframe\n",
        "\n",
        "def convertToNumericDf(this_df):\n",
        "  for i in this_df.columns:\n",
        "    this_df[i] = pd.to_numeric(this_df[i], errors='coerce')\n",
        "    print('Converted to numeric column : {}', format(i))\n",
        "  return this_df"
      ],
      "execution_count": 10,
      "outputs": []
    },
    {
      "cell_type": "code",
      "metadata": {
        "colab": {
          "base_uri": "https://localhost:8080/"
        },
        "id": "aR0vY3kiASxE",
        "outputId": "f6340bb7-daa1-4170-b3de-d85f2789d017"
      },
      "source": [
        "columnIndexes(spotify_data)"
      ],
      "execution_count": 11,
      "outputs": [
        {
          "output_type": "stream",
          "name": "stdout",
          "text": [
            "Index: 0 | Column : Index\n",
            "Index: 1 | Column : Highest Charting Position\n",
            "Index: 2 | Column : Number of Times Charted\n",
            "Index: 3 | Column : Week of Highest Charting\n",
            "Index: 4 | Column : Song Name\n",
            "Index: 5 | Column : Streams\n",
            "Index: 6 | Column : Artist\n",
            "Index: 7 | Column : Artist Followers\n",
            "Index: 8 | Column : Song ID\n",
            "Index: 9 | Column : Genre\n",
            "Index: 10 | Column : Release Date\n",
            "Index: 11 | Column : Weeks Charted\n",
            "Index: 12 | Column : Popularity\n",
            "Index: 13 | Column : Danceability\n",
            "Index: 14 | Column : Energy\n",
            "Index: 15 | Column : Loudness\n",
            "Index: 16 | Column : Speechiness\n",
            "Index: 17 | Column : Acousticness\n",
            "Index: 18 | Column : Liveness\n",
            "Index: 19 | Column : Tempo\n",
            "Index: 20 | Column : Duration (ms)\n",
            "Index: 21 | Column : Valence\n",
            "Index: 22 | Column : Chord\n"
          ]
        }
      ]
    },
    {
      "cell_type": "code",
      "metadata": {
        "colab": {
          "base_uri": "https://localhost:8080/"
        },
        "id": "Mfzt-rHMeLUB",
        "outputId": "d314e26f-6fc2-472b-c9f1-28885bc9c920"
      },
      "source": [
        "\n",
        "df_temp = removeSpaceFromDf(df.iloc[:,12:21])\n",
        "#df_temp.replace(to_replace=list_inelig, value=np.NaN, inplace=True)\n",
        "df_temp = convertToNumericDf(df_temp)\n",
        "#df_temp.dropna\n",
        "df.iloc[:,12:21] = df_temp"
      ],
      "execution_count": 12,
      "outputs": [
        {
          "output_type": "stream",
          "name": "stdout",
          "text": [
            "Removing space from column : {} Popularity\n",
            "Removing space from column : {} Danceability\n",
            "Removing space from column : {} Energy\n",
            "Removing space from column : {} Loudness\n",
            "Removing space from column : {} Speechiness\n",
            "Removing space from column : {} Acousticness\n",
            "Removing space from column : {} Liveness\n",
            "Removing space from column : {} Tempo\n",
            "Removing space from column : {} Duration (ms)\n",
            "Converted to numeric column : {} Popularity\n",
            "Converted to numeric column : {} Danceability\n",
            "Converted to numeric column : {} Energy\n",
            "Converted to numeric column : {} Loudness\n",
            "Converted to numeric column : {} Speechiness\n",
            "Converted to numeric column : {} Acousticness\n",
            "Converted to numeric column : {} Liveness\n",
            "Converted to numeric column : {} Tempo\n",
            "Converted to numeric column : {} Duration (ms)\n"
          ]
        }
      ]
    },
    {
      "cell_type": "code",
      "metadata": {
        "colab": {
          "base_uri": "https://localhost:8080/",
          "height": 331
        },
        "id": "K1HrYKSsnAB6",
        "outputId": "9f6ac00d-3c0d-4acc-a1df-b0722c28fc5e"
      },
      "source": [
        "df.describe()"
      ],
      "execution_count": 13,
      "outputs": [
        {
          "output_type": "execute_result",
          "data": {
            "text/html": [
              "<div>\n",
              "<style scoped>\n",
              "    .dataframe tbody tr th:only-of-type {\n",
              "        vertical-align: middle;\n",
              "    }\n",
              "\n",
              "    .dataframe tbody tr th {\n",
              "        vertical-align: top;\n",
              "    }\n",
              "\n",
              "    .dataframe thead th {\n",
              "        text-align: right;\n",
              "    }\n",
              "</style>\n",
              "<table border=\"1\" class=\"dataframe\">\n",
              "  <thead>\n",
              "    <tr style=\"text-align: right;\">\n",
              "      <th></th>\n",
              "      <th>Index</th>\n",
              "      <th>Highest Charting Position</th>\n",
              "      <th>Number of Times Charted</th>\n",
              "      <th>Popularity</th>\n",
              "      <th>Danceability</th>\n",
              "      <th>Energy</th>\n",
              "      <th>Loudness</th>\n",
              "      <th>Speechiness</th>\n",
              "      <th>Acousticness</th>\n",
              "      <th>Liveness</th>\n",
              "      <th>Tempo</th>\n",
              "      <th>Duration (ms)</th>\n",
              "    </tr>\n",
              "  </thead>\n",
              "  <tbody>\n",
              "    <tr>\n",
              "      <th>count</th>\n",
              "      <td>1556.000000</td>\n",
              "      <td>1556.000000</td>\n",
              "      <td>1556.000000</td>\n",
              "      <td>1545.000000</td>\n",
              "      <td>1545.000000</td>\n",
              "      <td>1545.000000</td>\n",
              "      <td>1545.000000</td>\n",
              "      <td>1545.000000</td>\n",
              "      <td>1545.000000</td>\n",
              "      <td>1545.000000</td>\n",
              "      <td>1545.000000</td>\n",
              "      <td>1545.000000</td>\n",
              "    </tr>\n",
              "    <tr>\n",
              "      <th>mean</th>\n",
              "      <td>778.500000</td>\n",
              "      <td>87.744216</td>\n",
              "      <td>10.668380</td>\n",
              "      <td>70.089320</td>\n",
              "      <td>0.689997</td>\n",
              "      <td>0.633495</td>\n",
              "      <td>-6.348474</td>\n",
              "      <td>0.123656</td>\n",
              "      <td>0.248695</td>\n",
              "      <td>0.181202</td>\n",
              "      <td>122.811023</td>\n",
              "      <td>197940.816828</td>\n",
              "    </tr>\n",
              "    <tr>\n",
              "      <th>std</th>\n",
              "      <td>449.322824</td>\n",
              "      <td>58.147225</td>\n",
              "      <td>16.360546</td>\n",
              "      <td>15.824034</td>\n",
              "      <td>0.142444</td>\n",
              "      <td>0.161577</td>\n",
              "      <td>2.509281</td>\n",
              "      <td>0.110383</td>\n",
              "      <td>0.250326</td>\n",
              "      <td>0.144071</td>\n",
              "      <td>29.591088</td>\n",
              "      <td>47148.930420</td>\n",
              "    </tr>\n",
              "    <tr>\n",
              "      <th>min</th>\n",
              "      <td>1.000000</td>\n",
              "      <td>1.000000</td>\n",
              "      <td>1.000000</td>\n",
              "      <td>0.000000</td>\n",
              "      <td>0.150000</td>\n",
              "      <td>0.054000</td>\n",
              "      <td>-25.166000</td>\n",
              "      <td>0.023200</td>\n",
              "      <td>0.000025</td>\n",
              "      <td>0.019700</td>\n",
              "      <td>46.718000</td>\n",
              "      <td>30133.000000</td>\n",
              "    </tr>\n",
              "    <tr>\n",
              "      <th>25%</th>\n",
              "      <td>389.750000</td>\n",
              "      <td>37.000000</td>\n",
              "      <td>1.000000</td>\n",
              "      <td>65.000000</td>\n",
              "      <td>0.599000</td>\n",
              "      <td>0.532000</td>\n",
              "      <td>-7.491000</td>\n",
              "      <td>0.045600</td>\n",
              "      <td>0.048500</td>\n",
              "      <td>0.096600</td>\n",
              "      <td>97.960000</td>\n",
              "      <td>169266.000000</td>\n",
              "    </tr>\n",
              "    <tr>\n",
              "      <th>50%</th>\n",
              "      <td>778.500000</td>\n",
              "      <td>80.000000</td>\n",
              "      <td>4.000000</td>\n",
              "      <td>73.000000</td>\n",
              "      <td>0.707000</td>\n",
              "      <td>0.642000</td>\n",
              "      <td>-5.990000</td>\n",
              "      <td>0.076500</td>\n",
              "      <td>0.161000</td>\n",
              "      <td>0.124000</td>\n",
              "      <td>122.012000</td>\n",
              "      <td>193591.000000</td>\n",
              "    </tr>\n",
              "    <tr>\n",
              "      <th>75%</th>\n",
              "      <td>1167.250000</td>\n",
              "      <td>137.000000</td>\n",
              "      <td>12.000000</td>\n",
              "      <td>80.000000</td>\n",
              "      <td>0.796000</td>\n",
              "      <td>0.752000</td>\n",
              "      <td>-4.711000</td>\n",
              "      <td>0.165000</td>\n",
              "      <td>0.388000</td>\n",
              "      <td>0.217000</td>\n",
              "      <td>143.860000</td>\n",
              "      <td>218902.000000</td>\n",
              "    </tr>\n",
              "    <tr>\n",
              "      <th>max</th>\n",
              "      <td>1556.000000</td>\n",
              "      <td>200.000000</td>\n",
              "      <td>142.000000</td>\n",
              "      <td>100.000000</td>\n",
              "      <td>0.980000</td>\n",
              "      <td>0.970000</td>\n",
              "      <td>1.509000</td>\n",
              "      <td>0.884000</td>\n",
              "      <td>0.994000</td>\n",
              "      <td>0.962000</td>\n",
              "      <td>205.272000</td>\n",
              "      <td>588139.000000</td>\n",
              "    </tr>\n",
              "  </tbody>\n",
              "</table>\n",
              "</div>"
            ],
            "text/plain": [
              "             Index  Highest Charting Position  ...        Tempo  Duration (ms)\n",
              "count  1556.000000                1556.000000  ...  1545.000000    1545.000000\n",
              "mean    778.500000                  87.744216  ...   122.811023  197940.816828\n",
              "std     449.322824                  58.147225  ...    29.591088   47148.930420\n",
              "min       1.000000                   1.000000  ...    46.718000   30133.000000\n",
              "25%     389.750000                  37.000000  ...    97.960000  169266.000000\n",
              "50%     778.500000                  80.000000  ...   122.012000  193591.000000\n",
              "75%    1167.250000                 137.000000  ...   143.860000  218902.000000\n",
              "max    1556.000000                 200.000000  ...   205.272000  588139.000000\n",
              "\n",
              "[8 rows x 12 columns]"
            ]
          },
          "metadata": {},
          "execution_count": 13
        }
      ]
    },
    {
      "cell_type": "code",
      "metadata": {
        "colab": {
          "base_uri": "https://localhost:8080/"
        },
        "id": "3l-EXz5ZUpQI",
        "outputId": "04a0aed0-81cd-42e5-8123-4742018174fc"
      },
      "source": [
        "df_temp = removeSpaceFromDf(df.iloc[:,[5,7]])\n",
        "df_temp = convertToNumericDf(df_temp)\n",
        "df.iloc[:,[5,7]] = df_temp"
      ],
      "execution_count": 14,
      "outputs": [
        {
          "output_type": "stream",
          "name": "stdout",
          "text": [
            "Removing space from column : {} Streams\n",
            "Removing space from column : {} Artist Followers\n",
            "Converted to numeric column : {} Streams\n",
            "Converted to numeric column : {} Artist Followers\n"
          ]
        },
        {
          "output_type": "stream",
          "name": "stderr",
          "text": [
            "/usr/local/lib/python3.7/dist-packages/ipykernel_launcher.py:5: SettingWithCopyWarning: \n",
            "A value is trying to be set on a copy of a slice from a DataFrame.\n",
            "Try using .loc[row_indexer,col_indexer] = value instead\n",
            "\n",
            "See the caveats in the documentation: https://pandas.pydata.org/pandas-docs/stable/user_guide/indexing.html#returning-a-view-versus-a-copy\n",
            "  \"\"\"\n"
          ]
        }
      ]
    },
    {
      "cell_type": "code",
      "metadata": {
        "colab": {
          "base_uri": "https://localhost:8080/"
        },
        "id": "hUeUn4O9rCm4",
        "outputId": "ca63fe0d-34d0-4b27-f601-cb3e38ec3e35"
      },
      "source": [
        "df_temp = df['Release Date']\n",
        "df_temp"
      ],
      "execution_count": 16,
      "outputs": [
        {
          "output_type": "execute_result",
          "data": {
            "text/plain": [
              "0       2017-12-08\n",
              "1       2021-07-09\n",
              "2       2021-05-21\n",
              "3       2021-06-25\n",
              "4       2021-07-23\n",
              "           ...    \n",
              "1551    2017-06-02\n",
              "1552    2019-10-11\n",
              "1553    2018-01-12\n",
              "1554    2019-09-25\n",
              "1555    2019-11-13\n",
              "Name: Release Date, Length: 1556, dtype: object"
            ]
          },
          "metadata": {},
          "execution_count": 16
        }
      ]
    },
    {
      "cell_type": "code",
      "metadata": {
        "colab": {
          "base_uri": "https://localhost:8080/",
          "height": 528
        },
        "id": "OfJHw7mFr0_E",
        "outputId": "8856583e-91a6-4147-9398-843a9d7d72b0"
      },
      "source": [
        "#df_temp = df_temp.str.replace('-','')\n",
        "df_temp = df_temp.str.replace(' ','')\n",
        "df_temp.dropna\n",
        "df_temp = pd.to_datetime(df_temp , format='%Y%m%d')"
      ],
      "execution_count": 25,
      "outputs": [
        {
          "output_type": "error",
          "ename": "ValueError",
          "evalue": "ignored",
          "traceback": [
            "\u001b[0;31m---------------------------------------------------------------------------\u001b[0m",
            "\u001b[0;31mTypeError\u001b[0m                                 Traceback (most recent call last)",
            "\u001b[0;32m/usr/local/lib/python3.7/dist-packages/pandas/core/tools/datetimes.py\u001b[0m in \u001b[0;36m_convert_listlike_datetimes\u001b[0;34m(arg, format, name, tz, unit, errors, infer_datetime_format, dayfirst, yearfirst, exact)\u001b[0m\n\u001b[1;32m    449\u001b[0m             \u001b[0;32mtry\u001b[0m\u001b[0;34m:\u001b[0m\u001b[0;34m\u001b[0m\u001b[0;34m\u001b[0m\u001b[0m\n\u001b[0;32m--> 450\u001b[0;31m                 \u001b[0mvalues\u001b[0m\u001b[0;34m,\u001b[0m \u001b[0mtz\u001b[0m \u001b[0;34m=\u001b[0m \u001b[0mconversion\u001b[0m\u001b[0;34m.\u001b[0m\u001b[0mdatetime_to_datetime64\u001b[0m\u001b[0;34m(\u001b[0m\u001b[0marg\u001b[0m\u001b[0;34m)\u001b[0m\u001b[0;34m\u001b[0m\u001b[0;34m\u001b[0m\u001b[0m\n\u001b[0m\u001b[1;32m    451\u001b[0m                 \u001b[0mdta\u001b[0m \u001b[0;34m=\u001b[0m \u001b[0mDatetimeArray\u001b[0m\u001b[0;34m(\u001b[0m\u001b[0mvalues\u001b[0m\u001b[0;34m,\u001b[0m \u001b[0mdtype\u001b[0m\u001b[0;34m=\u001b[0m\u001b[0mtz_to_dtype\u001b[0m\u001b[0;34m(\u001b[0m\u001b[0mtz\u001b[0m\u001b[0;34m)\u001b[0m\u001b[0;34m)\u001b[0m\u001b[0;34m\u001b[0m\u001b[0;34m\u001b[0m\u001b[0m\n",
            "\u001b[0;32mpandas/_libs/tslibs/conversion.pyx\u001b[0m in \u001b[0;36mpandas._libs.tslibs.conversion.datetime_to_datetime64\u001b[0;34m()\u001b[0m\n",
            "\u001b[0;31mTypeError\u001b[0m: Unrecognized value type: <class 'str'>",
            "\nDuring handling of the above exception, another exception occurred:\n",
            "\u001b[0;31mValueError\u001b[0m                                Traceback (most recent call last)",
            "\u001b[0;32m<ipython-input-25-a9873cf4fe76>\u001b[0m in \u001b[0;36m<module>\u001b[0;34m()\u001b[0m\n\u001b[1;32m      2\u001b[0m \u001b[0mdf_temp\u001b[0m \u001b[0;34m=\u001b[0m \u001b[0mdf_temp\u001b[0m\u001b[0;34m.\u001b[0m\u001b[0mstr\u001b[0m\u001b[0;34m.\u001b[0m\u001b[0mreplace\u001b[0m\u001b[0;34m(\u001b[0m\u001b[0;34m' '\u001b[0m\u001b[0;34m,\u001b[0m\u001b[0;34m''\u001b[0m\u001b[0;34m)\u001b[0m\u001b[0;34m\u001b[0m\u001b[0;34m\u001b[0m\u001b[0m\n\u001b[1;32m      3\u001b[0m \u001b[0mdf_temp\u001b[0m\u001b[0;34m.\u001b[0m\u001b[0mdropna\u001b[0m\u001b[0;34m\u001b[0m\u001b[0;34m\u001b[0m\u001b[0m\n\u001b[0;32m----> 4\u001b[0;31m \u001b[0mdf_temp\u001b[0m \u001b[0;34m=\u001b[0m \u001b[0mpd\u001b[0m\u001b[0;34m.\u001b[0m\u001b[0mto_datetime\u001b[0m\u001b[0;34m(\u001b[0m\u001b[0mdf_temp\u001b[0m \u001b[0;34m,\u001b[0m \u001b[0mformat\u001b[0m\u001b[0;34m=\u001b[0m\u001b[0;34m'%Y%m%d'\u001b[0m\u001b[0;34m)\u001b[0m\u001b[0;34m\u001b[0m\u001b[0;34m\u001b[0m\u001b[0m\n\u001b[0m",
            "\u001b[0;32m/usr/local/lib/python3.7/dist-packages/pandas/core/tools/datetimes.py\u001b[0m in \u001b[0;36mto_datetime\u001b[0;34m(arg, errors, dayfirst, yearfirst, utc, format, exact, unit, infer_datetime_format, origin, cache)\u001b[0m\n\u001b[1;32m    797\u001b[0m                 \u001b[0mresult\u001b[0m \u001b[0;34m=\u001b[0m \u001b[0mresult\u001b[0m\u001b[0;34m.\u001b[0m\u001b[0mtz_localize\u001b[0m\u001b[0;34m(\u001b[0m\u001b[0mtz\u001b[0m\u001b[0;34m)\u001b[0m\u001b[0;34m\u001b[0m\u001b[0;34m\u001b[0m\u001b[0m\n\u001b[1;32m    798\u001b[0m     \u001b[0;32melif\u001b[0m \u001b[0misinstance\u001b[0m\u001b[0;34m(\u001b[0m\u001b[0marg\u001b[0m\u001b[0;34m,\u001b[0m \u001b[0mABCSeries\u001b[0m\u001b[0;34m)\u001b[0m\u001b[0;34m:\u001b[0m\u001b[0;34m\u001b[0m\u001b[0;34m\u001b[0m\u001b[0m\n\u001b[0;32m--> 799\u001b[0;31m         \u001b[0mcache_array\u001b[0m \u001b[0;34m=\u001b[0m \u001b[0m_maybe_cache\u001b[0m\u001b[0;34m(\u001b[0m\u001b[0marg\u001b[0m\u001b[0;34m,\u001b[0m \u001b[0mformat\u001b[0m\u001b[0;34m,\u001b[0m \u001b[0mcache\u001b[0m\u001b[0;34m,\u001b[0m \u001b[0mconvert_listlike\u001b[0m\u001b[0;34m)\u001b[0m\u001b[0;34m\u001b[0m\u001b[0;34m\u001b[0m\u001b[0m\n\u001b[0m\u001b[1;32m    800\u001b[0m         \u001b[0;32mif\u001b[0m \u001b[0;32mnot\u001b[0m \u001b[0mcache_array\u001b[0m\u001b[0;34m.\u001b[0m\u001b[0mempty\u001b[0m\u001b[0;34m:\u001b[0m\u001b[0;34m\u001b[0m\u001b[0;34m\u001b[0m\u001b[0m\n\u001b[1;32m    801\u001b[0m             \u001b[0mresult\u001b[0m \u001b[0;34m=\u001b[0m \u001b[0marg\u001b[0m\u001b[0;34m.\u001b[0m\u001b[0mmap\u001b[0m\u001b[0;34m(\u001b[0m\u001b[0mcache_array\u001b[0m\u001b[0;34m)\u001b[0m\u001b[0;34m\u001b[0m\u001b[0;34m\u001b[0m\u001b[0m\n",
            "\u001b[0;32m/usr/local/lib/python3.7/dist-packages/pandas/core/tools/datetimes.py\u001b[0m in \u001b[0;36m_maybe_cache\u001b[0;34m(arg, format, cache, convert_listlike)\u001b[0m\n\u001b[1;32m    168\u001b[0m         \u001b[0munique_dates\u001b[0m \u001b[0;34m=\u001b[0m \u001b[0munique\u001b[0m\u001b[0;34m(\u001b[0m\u001b[0marg\u001b[0m\u001b[0;34m)\u001b[0m\u001b[0;34m\u001b[0m\u001b[0;34m\u001b[0m\u001b[0m\n\u001b[1;32m    169\u001b[0m         \u001b[0;32mif\u001b[0m \u001b[0mlen\u001b[0m\u001b[0;34m(\u001b[0m\u001b[0munique_dates\u001b[0m\u001b[0;34m)\u001b[0m \u001b[0;34m<\u001b[0m \u001b[0mlen\u001b[0m\u001b[0;34m(\u001b[0m\u001b[0marg\u001b[0m\u001b[0;34m)\u001b[0m\u001b[0;34m:\u001b[0m\u001b[0;34m\u001b[0m\u001b[0;34m\u001b[0m\u001b[0m\n\u001b[0;32m--> 170\u001b[0;31m             \u001b[0mcache_dates\u001b[0m \u001b[0;34m=\u001b[0m \u001b[0mconvert_listlike\u001b[0m\u001b[0;34m(\u001b[0m\u001b[0munique_dates\u001b[0m\u001b[0;34m,\u001b[0m \u001b[0mformat\u001b[0m\u001b[0;34m)\u001b[0m\u001b[0;34m\u001b[0m\u001b[0;34m\u001b[0m\u001b[0m\n\u001b[0m\u001b[1;32m    171\u001b[0m             \u001b[0mcache_array\u001b[0m \u001b[0;34m=\u001b[0m \u001b[0mSeries\u001b[0m\u001b[0;34m(\u001b[0m\u001b[0mcache_dates\u001b[0m\u001b[0;34m,\u001b[0m \u001b[0mindex\u001b[0m\u001b[0;34m=\u001b[0m\u001b[0munique_dates\u001b[0m\u001b[0;34m)\u001b[0m\u001b[0;34m\u001b[0m\u001b[0;34m\u001b[0m\u001b[0m\n\u001b[1;32m    172\u001b[0m     \u001b[0;32mreturn\u001b[0m \u001b[0mcache_array\u001b[0m\u001b[0;34m\u001b[0m\u001b[0;34m\u001b[0m\u001b[0m\n",
            "\u001b[0;32m/usr/local/lib/python3.7/dist-packages/pandas/core/tools/datetimes.py\u001b[0m in \u001b[0;36m_convert_listlike_datetimes\u001b[0;34m(arg, format, name, tz, unit, errors, infer_datetime_format, dayfirst, yearfirst, exact)\u001b[0m\n\u001b[1;32m    452\u001b[0m                 \u001b[0;32mreturn\u001b[0m \u001b[0mDatetimeIndex\u001b[0m\u001b[0;34m.\u001b[0m\u001b[0m_simple_new\u001b[0m\u001b[0;34m(\u001b[0m\u001b[0mdta\u001b[0m\u001b[0;34m,\u001b[0m \u001b[0mname\u001b[0m\u001b[0;34m=\u001b[0m\u001b[0mname\u001b[0m\u001b[0;34m)\u001b[0m\u001b[0;34m\u001b[0m\u001b[0;34m\u001b[0m\u001b[0m\n\u001b[1;32m    453\u001b[0m             \u001b[0;32mexcept\u001b[0m \u001b[0;34m(\u001b[0m\u001b[0mValueError\u001b[0m\u001b[0;34m,\u001b[0m \u001b[0mTypeError\u001b[0m\u001b[0;34m)\u001b[0m\u001b[0;34m:\u001b[0m\u001b[0;34m\u001b[0m\u001b[0;34m\u001b[0m\u001b[0m\n\u001b[0;32m--> 454\u001b[0;31m                 \u001b[0;32mraise\u001b[0m \u001b[0me\u001b[0m\u001b[0;34m\u001b[0m\u001b[0;34m\u001b[0m\u001b[0m\n\u001b[0m\u001b[1;32m    455\u001b[0m \u001b[0;34m\u001b[0m\u001b[0m\n\u001b[1;32m    456\u001b[0m     \u001b[0;32mif\u001b[0m \u001b[0mresult\u001b[0m \u001b[0;32mis\u001b[0m \u001b[0;32mNone\u001b[0m\u001b[0;34m:\u001b[0m\u001b[0;34m\u001b[0m\u001b[0;34m\u001b[0m\u001b[0m\n",
            "\u001b[0;32m/usr/local/lib/python3.7/dist-packages/pandas/core/tools/datetimes.py\u001b[0m in \u001b[0;36m_convert_listlike_datetimes\u001b[0;34m(arg, format, name, tz, unit, errors, infer_datetime_format, dayfirst, yearfirst, exact)\u001b[0m\n\u001b[1;32m    416\u001b[0m                 \u001b[0;32mtry\u001b[0m\u001b[0;34m:\u001b[0m\u001b[0;34m\u001b[0m\u001b[0;34m\u001b[0m\u001b[0m\n\u001b[1;32m    417\u001b[0m                     result, timezones = array_strptime(\n\u001b[0;32m--> 418\u001b[0;31m                         \u001b[0marg\u001b[0m\u001b[0;34m,\u001b[0m \u001b[0mformat\u001b[0m\u001b[0;34m,\u001b[0m \u001b[0mexact\u001b[0m\u001b[0;34m=\u001b[0m\u001b[0mexact\u001b[0m\u001b[0;34m,\u001b[0m \u001b[0merrors\u001b[0m\u001b[0;34m=\u001b[0m\u001b[0merrors\u001b[0m\u001b[0;34m\u001b[0m\u001b[0;34m\u001b[0m\u001b[0m\n\u001b[0m\u001b[1;32m    419\u001b[0m                     )\n\u001b[1;32m    420\u001b[0m                     \u001b[0;32mif\u001b[0m \u001b[0;34m\"%Z\"\u001b[0m \u001b[0;32min\u001b[0m \u001b[0mformat\u001b[0m \u001b[0;32mor\u001b[0m \u001b[0;34m\"%z\"\u001b[0m \u001b[0;32min\u001b[0m \u001b[0mformat\u001b[0m\u001b[0;34m:\u001b[0m\u001b[0;34m\u001b[0m\u001b[0;34m\u001b[0m\u001b[0m\n",
            "\u001b[0;32mpandas/_libs/tslibs/strptime.pyx\u001b[0m in \u001b[0;36mpandas._libs.tslibs.strptime.array_strptime\u001b[0;34m()\u001b[0m\n",
            "\u001b[0;31mValueError\u001b[0m: time data '' does not match format '%Y%m%d' (match)"
          ]
        }
      ]
    }
  ]
}