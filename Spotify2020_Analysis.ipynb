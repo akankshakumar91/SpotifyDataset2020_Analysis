{
  "nbformat": 4,
  "nbformat_minor": 0,
  "metadata": {
    "colab": {
      "name": "Spotify2020_Analysis.ipynb",
      "provenance": [],
      "authorship_tag": "ABX9TyMwzVdWJcCN9i8iv2oWpmDn",
      "include_colab_link": true
    },
    "kernelspec": {
      "name": "python3",
      "display_name": "Python 3"
    },
    "language_info": {
      "name": "python"
    }
  },
  "cells": [
    {
      "cell_type": "markdown",
      "metadata": {
        "id": "view-in-github",
        "colab_type": "text"
      },
      "source": [
        "<a href=\"https://colab.research.google.com/github/akankshakumar91/SpotifyDataset2020_Analysis/blob/main/Spotify2020_Analysis.ipynb\" target=\"_parent\"><img src=\"https://colab.research.google.com/assets/colab-badge.svg\" alt=\"Open In Colab\"/></a>"
      ]
    },
    {
      "cell_type": "markdown",
      "metadata": {
        "id": "ttrhFLu-C-eU"
      },
      "source": [
        "\n",
        "\n",
        "```\n",
        "IMPORTING LIBRARIES\n",
        "```\n",
        "\n"
      ]
    },
    {
      "cell_type": "code",
      "metadata": {
        "id": "ZgLhI6sBxEDW"
      },
      "source": [
        "import numpy as np\n",
        "import pandas as pd"
      ],
      "execution_count": null,
      "outputs": []
    },
    {
      "cell_type": "code",
      "metadata": {
        "id": "3T3-Azj4yztb"
      },
      "source": [
        "url = 'https://raw.githubusercontent.com/akankshakumar91/SpotifyDataset2020_Analysis/main/spotify_dataset.csv'\n",
        "\n",
        "spotify_data = pd.read_csv(url)"
      ],
      "execution_count": null,
      "outputs": []
    },
    {
      "cell_type": "code",
      "metadata": {
        "colab": {
          "base_uri": "https://localhost:8080/"
        },
        "id": "juVkfvFXzYPf",
        "outputId": "6b918375-c458-4691-ac63-b8590cc8d8a7"
      },
      "source": [
        "spotify_data.columns"
      ],
      "execution_count": null,
      "outputs": [
        {
          "output_type": "execute_result",
          "data": {
            "text/plain": [
              "Index(['Index', 'Highest Charting Position', 'Number of Times Charted',\n",
              "       'Week of Highest Charting', 'Song Name', 'Streams', 'Artist',\n",
              "       'Artist Followers', 'Song ID', 'Genre', 'Release Date', 'Weeks Charted',\n",
              "       'Popularity', 'Danceability', 'Energy', 'Loudness', 'Speechiness',\n",
              "       'Acousticness', 'Liveness', 'Tempo', 'Duration (ms)', 'Valence',\n",
              "       'Chord'],\n",
              "      dtype='object')"
            ]
          },
          "metadata": {},
          "execution_count": 31
        }
      ]
    },
    {
      "cell_type": "code",
      "metadata": {
        "colab": {
          "base_uri": "https://localhost:8080/",
          "height": 297
        },
        "id": "l3JCnrcIUx5X",
        "outputId": "793c63d9-81c6-47a0-9442-26c8255971bd"
      },
      "source": [
        "spotify_data.describe()"
      ],
      "execution_count": null,
      "outputs": [
        {
          "output_type": "execute_result",
          "data": {
            "text/html": [
              "<div>\n",
              "<style scoped>\n",
              "    .dataframe tbody tr th:only-of-type {\n",
              "        vertical-align: middle;\n",
              "    }\n",
              "\n",
              "    .dataframe tbody tr th {\n",
              "        vertical-align: top;\n",
              "    }\n",
              "\n",
              "    .dataframe thead th {\n",
              "        text-align: right;\n",
              "    }\n",
              "</style>\n",
              "<table border=\"1\" class=\"dataframe\">\n",
              "  <thead>\n",
              "    <tr style=\"text-align: right;\">\n",
              "      <th></th>\n",
              "      <th>Index</th>\n",
              "      <th>Highest Charting Position</th>\n",
              "      <th>Number of Times Charted</th>\n",
              "    </tr>\n",
              "  </thead>\n",
              "  <tbody>\n",
              "    <tr>\n",
              "      <th>count</th>\n",
              "      <td>1556.000000</td>\n",
              "      <td>1556.000000</td>\n",
              "      <td>1556.000000</td>\n",
              "    </tr>\n",
              "    <tr>\n",
              "      <th>mean</th>\n",
              "      <td>778.500000</td>\n",
              "      <td>87.744216</td>\n",
              "      <td>10.668380</td>\n",
              "    </tr>\n",
              "    <tr>\n",
              "      <th>std</th>\n",
              "      <td>449.322824</td>\n",
              "      <td>58.147225</td>\n",
              "      <td>16.360546</td>\n",
              "    </tr>\n",
              "    <tr>\n",
              "      <th>min</th>\n",
              "      <td>1.000000</td>\n",
              "      <td>1.000000</td>\n",
              "      <td>1.000000</td>\n",
              "    </tr>\n",
              "    <tr>\n",
              "      <th>25%</th>\n",
              "      <td>389.750000</td>\n",
              "      <td>37.000000</td>\n",
              "      <td>1.000000</td>\n",
              "    </tr>\n",
              "    <tr>\n",
              "      <th>50%</th>\n",
              "      <td>778.500000</td>\n",
              "      <td>80.000000</td>\n",
              "      <td>4.000000</td>\n",
              "    </tr>\n",
              "    <tr>\n",
              "      <th>75%</th>\n",
              "      <td>1167.250000</td>\n",
              "      <td>137.000000</td>\n",
              "      <td>12.000000</td>\n",
              "    </tr>\n",
              "    <tr>\n",
              "      <th>max</th>\n",
              "      <td>1556.000000</td>\n",
              "      <td>200.000000</td>\n",
              "      <td>142.000000</td>\n",
              "    </tr>\n",
              "  </tbody>\n",
              "</table>\n",
              "</div>"
            ],
            "text/plain": [
              "             Index  Highest Charting Position  Number of Times Charted\n",
              "count  1556.000000                1556.000000              1556.000000\n",
              "mean    778.500000                  87.744216                10.668380\n",
              "std     449.322824                  58.147225                16.360546\n",
              "min       1.000000                   1.000000                 1.000000\n",
              "25%     389.750000                  37.000000                 1.000000\n",
              "50%     778.500000                  80.000000                 4.000000\n",
              "75%    1167.250000                 137.000000                12.000000\n",
              "max    1556.000000                 200.000000               142.000000"
            ]
          },
          "metadata": {},
          "execution_count": 32
        }
      ]
    },
    {
      "cell_type": "code",
      "metadata": {
        "colab": {
          "base_uri": "https://localhost:8080/",
          "height": 734
        },
        "id": "Akpf48h_9P_y",
        "outputId": "12a29ab2-8076-4cbb-c94b-32d69fdda8a7"
      },
      "source": [
        "spotify_data.head()"
      ],
      "execution_count": null,
      "outputs": [
        {
          "output_type": "execute_result",
          "data": {
            "text/html": [
              "<div>\n",
              "<style scoped>\n",
              "    .dataframe tbody tr th:only-of-type {\n",
              "        vertical-align: middle;\n",
              "    }\n",
              "\n",
              "    .dataframe tbody tr th {\n",
              "        vertical-align: top;\n",
              "    }\n",
              "\n",
              "    .dataframe thead th {\n",
              "        text-align: right;\n",
              "    }\n",
              "</style>\n",
              "<table border=\"1\" class=\"dataframe\">\n",
              "  <thead>\n",
              "    <tr style=\"text-align: right;\">\n",
              "      <th></th>\n",
              "      <th>Index</th>\n",
              "      <th>Highest Charting Position</th>\n",
              "      <th>Number of Times Charted</th>\n",
              "      <th>Week of Highest Charting</th>\n",
              "      <th>Song Name</th>\n",
              "      <th>Streams</th>\n",
              "      <th>Artist</th>\n",
              "      <th>Artist Followers</th>\n",
              "      <th>Song ID</th>\n",
              "      <th>Genre</th>\n",
              "      <th>Release Date</th>\n",
              "      <th>Weeks Charted</th>\n",
              "      <th>Popularity</th>\n",
              "      <th>Danceability</th>\n",
              "      <th>Energy</th>\n",
              "      <th>Loudness</th>\n",
              "      <th>Speechiness</th>\n",
              "      <th>Acousticness</th>\n",
              "      <th>Liveness</th>\n",
              "      <th>Tempo</th>\n",
              "      <th>Duration (ms)</th>\n",
              "      <th>Valence</th>\n",
              "      <th>Chord</th>\n",
              "    </tr>\n",
              "  </thead>\n",
              "  <tbody>\n",
              "    <tr>\n",
              "      <th>0</th>\n",
              "      <td>1</td>\n",
              "      <td>1</td>\n",
              "      <td>8</td>\n",
              "      <td>2021-07-23--2021-07-30</td>\n",
              "      <td>Beggin'</td>\n",
              "      <td>48,633,449</td>\n",
              "      <td>Måneskin</td>\n",
              "      <td>3377762</td>\n",
              "      <td>3Wrjm47oTz2sjIgck11l5e</td>\n",
              "      <td>['indie rock italiano', 'italian pop']</td>\n",
              "      <td>2017-12-08</td>\n",
              "      <td>2021-07-23--2021-07-30\\n2021-07-16--2021-07-23...</td>\n",
              "      <td>100</td>\n",
              "      <td>0.714</td>\n",
              "      <td>0.8</td>\n",
              "      <td>-4.808</td>\n",
              "      <td>0.0504</td>\n",
              "      <td>0.127</td>\n",
              "      <td>0.359</td>\n",
              "      <td>134.002</td>\n",
              "      <td>211560</td>\n",
              "      <td>0.589</td>\n",
              "      <td>B</td>\n",
              "    </tr>\n",
              "    <tr>\n",
              "      <th>1</th>\n",
              "      <td>2</td>\n",
              "      <td>2</td>\n",
              "      <td>3</td>\n",
              "      <td>2021-07-23--2021-07-30</td>\n",
              "      <td>STAY (with Justin Bieber)</td>\n",
              "      <td>47,248,719</td>\n",
              "      <td>The Kid LAROI</td>\n",
              "      <td>2230022</td>\n",
              "      <td>5HCyWlXZPP0y6Gqq8TgA20</td>\n",
              "      <td>['australian hip hop']</td>\n",
              "      <td>2021-07-09</td>\n",
              "      <td>2021-07-23--2021-07-30\\n2021-07-16--2021-07-23...</td>\n",
              "      <td>99</td>\n",
              "      <td>0.591</td>\n",
              "      <td>0.764</td>\n",
              "      <td>-5.484</td>\n",
              "      <td>0.0483</td>\n",
              "      <td>0.0383</td>\n",
              "      <td>0.103</td>\n",
              "      <td>169.928</td>\n",
              "      <td>141806</td>\n",
              "      <td>0.478</td>\n",
              "      <td>C#/Db</td>\n",
              "    </tr>\n",
              "    <tr>\n",
              "      <th>2</th>\n",
              "      <td>3</td>\n",
              "      <td>1</td>\n",
              "      <td>11</td>\n",
              "      <td>2021-06-25--2021-07-02</td>\n",
              "      <td>good 4 u</td>\n",
              "      <td>40,162,559</td>\n",
              "      <td>Olivia Rodrigo</td>\n",
              "      <td>6266514</td>\n",
              "      <td>4ZtFanR9U6ndgddUvNcjcG</td>\n",
              "      <td>['pop']</td>\n",
              "      <td>2021-05-21</td>\n",
              "      <td>2021-07-23--2021-07-30\\n2021-07-16--2021-07-23...</td>\n",
              "      <td>99</td>\n",
              "      <td>0.563</td>\n",
              "      <td>0.664</td>\n",
              "      <td>-5.044</td>\n",
              "      <td>0.154</td>\n",
              "      <td>0.335</td>\n",
              "      <td>0.0849</td>\n",
              "      <td>166.928</td>\n",
              "      <td>178147</td>\n",
              "      <td>0.688</td>\n",
              "      <td>A</td>\n",
              "    </tr>\n",
              "    <tr>\n",
              "      <th>3</th>\n",
              "      <td>4</td>\n",
              "      <td>3</td>\n",
              "      <td>5</td>\n",
              "      <td>2021-07-02--2021-07-09</td>\n",
              "      <td>Bad Habits</td>\n",
              "      <td>37,799,456</td>\n",
              "      <td>Ed Sheeran</td>\n",
              "      <td>83293380</td>\n",
              "      <td>6PQ88X9TkUIAUIZJHW2upE</td>\n",
              "      <td>['pop', 'uk pop']</td>\n",
              "      <td>2021-06-25</td>\n",
              "      <td>2021-07-23--2021-07-30\\n2021-07-16--2021-07-23...</td>\n",
              "      <td>98</td>\n",
              "      <td>0.808</td>\n",
              "      <td>0.897</td>\n",
              "      <td>-3.712</td>\n",
              "      <td>0.0348</td>\n",
              "      <td>0.0469</td>\n",
              "      <td>0.364</td>\n",
              "      <td>126.026</td>\n",
              "      <td>231041</td>\n",
              "      <td>0.591</td>\n",
              "      <td>B</td>\n",
              "    </tr>\n",
              "    <tr>\n",
              "      <th>4</th>\n",
              "      <td>5</td>\n",
              "      <td>5</td>\n",
              "      <td>1</td>\n",
              "      <td>2021-07-23--2021-07-30</td>\n",
              "      <td>INDUSTRY BABY (feat. Jack Harlow)</td>\n",
              "      <td>33,948,454</td>\n",
              "      <td>Lil Nas X</td>\n",
              "      <td>5473565</td>\n",
              "      <td>27NovPIUIRrOZoCHxABJwK</td>\n",
              "      <td>['lgbtq+ hip hop', 'pop rap']</td>\n",
              "      <td>2021-07-23</td>\n",
              "      <td>2021-07-23--2021-07-30</td>\n",
              "      <td>96</td>\n",
              "      <td>0.736</td>\n",
              "      <td>0.704</td>\n",
              "      <td>-7.409</td>\n",
              "      <td>0.0615</td>\n",
              "      <td>0.0203</td>\n",
              "      <td>0.0501</td>\n",
              "      <td>149.995</td>\n",
              "      <td>212000</td>\n",
              "      <td>0.894</td>\n",
              "      <td>D#/Eb</td>\n",
              "    </tr>\n",
              "  </tbody>\n",
              "</table>\n",
              "</div>"
            ],
            "text/plain": [
              "   Index  Highest Charting Position  ...  Valence  Chord\n",
              "0      1                          1  ...    0.589      B\n",
              "1      2                          2  ...    0.478  C#/Db\n",
              "2      3                          1  ...    0.688      A\n",
              "3      4                          3  ...    0.591      B\n",
              "4      5                          5  ...    0.894  D#/Eb\n",
              "\n",
              "[5 rows x 23 columns]"
            ]
          },
          "metadata": {},
          "execution_count": 33
        }
      ]
    },
    {
      "cell_type": "code",
      "metadata": {
        "colab": {
          "base_uri": "https://localhost:8080/",
          "height": 315
        },
        "id": "FTdmHUAH4TU2",
        "outputId": "a127ccf1-329f-4010-c151-75fbab1160b6"
      },
      "source": [
        "spotify_data.hist('Highest Charting Position')"
      ],
      "execution_count": null,
      "outputs": [
        {
          "output_type": "execute_result",
          "data": {
            "text/plain": [
              "array([[<matplotlib.axes._subplots.AxesSubplot object at 0x7fe66894fed0>]],\n",
              "      dtype=object)"
            ]
          },
          "metadata": {},
          "execution_count": 34
        },
        {
          "output_type": "display_data",
          "data": {
            "image/png": "[encoded data removed]",
            "text/plain": [
              "<Figure size 432x288 with 1 Axes>"
            ]
          },
          "metadata": {
            "needs_background": "light"
          }
        }
      ]
    },
    {
      "cell_type": "code",
      "metadata": {
        "colab": {
          "base_uri": "https://localhost:8080/"
        },
        "id": "hglSK88g4vSH",
        "outputId": "f1e12463-1820-4805-aec2-defb40398117"
      },
      "source": [
        "spotify_data.dtypes"
      ],
      "execution_count": null,
      "outputs": [
        {
          "output_type": "execute_result",
          "data": {
            "text/plain": [
              "Index                         int64\n",
              "Highest Charting Position     int64\n",
              "Number of Times Charted       int64\n",
              "Week of Highest Charting     object\n",
              "Song Name                    object\n",
              "Streams                      object\n",
              "Artist                       object\n",
              "Artist Followers             object\n",
              "Song ID                      object\n",
              "Genre                        object\n",
              "Release Date                 object\n",
              "Weeks Charted                object\n",
              "Popularity                   object\n",
              "Danceability                 object\n",
              "Energy                       object\n",
              "Loudness                     object\n",
              "Speechiness                  object\n",
              "Acousticness                 object\n",
              "Liveness                     object\n",
              "Tempo                        object\n",
              "Duration (ms)                object\n",
              "Valence                      object\n",
              "Chord                        object\n",
              "dtype: object"
            ]
          },
          "metadata": {},
          "execution_count": 35
        }
      ]
    },
    {
      "cell_type": "code",
      "metadata": {
        "colab": {
          "base_uri": "https://localhost:8080/"
        },
        "id": "Tkjt9Y3q4PRX",
        "outputId": "c93f7617-0e89-4826-b6ab-4fc4dfa95f64"
      },
      "source": [
        "df = pd.DataFrame(data=spotify_data)\n",
        "df.dtypes"
      ],
      "execution_count": null,
      "outputs": [
        {
          "output_type": "execute_result",
          "data": {
            "text/plain": [
              "Index                         int64\n",
              "Highest Charting Position     int64\n",
              "Number of Times Charted       int64\n",
              "Week of Highest Charting     object\n",
              "Song Name                    object\n",
              "Streams                      object\n",
              "Artist                       object\n",
              "Artist Followers             object\n",
              "Song ID                      object\n",
              "Genre                        object\n",
              "Release Date                 object\n",
              "Weeks Charted                object\n",
              "Popularity                   object\n",
              "Danceability                 object\n",
              "Energy                       object\n",
              "Loudness                     object\n",
              "Speechiness                  object\n",
              "Acousticness                 object\n",
              "Liveness                     object\n",
              "Tempo                        object\n",
              "Duration (ms)                object\n",
              "Valence                      object\n",
              "Chord                        object\n",
              "dtype: object"
            ]
          },
          "metadata": {},
          "execution_count": 36
        }
      ]
    },
    {
      "cell_type": "code",
      "metadata": {
        "id": "vOUmQ1uU_nWX"
      },
      "source": [
        "def columnIndexes(this_df):\n",
        "  for i in this_df.columns:\n",
        "    indx = this_df.columns.get_loc(i)\n",
        "    print(\"Index: {} | Column : {}\".format(indx, i))"
      ],
      "execution_count": null,
      "outputs": []
    },
    {
      "cell_type": "code",
      "metadata": {
        "colab": {
          "base_uri": "https://localhost:8080/"
        },
        "id": "aR0vY3kiASxE",
        "outputId": "c5895529-6737-47e8-d06f-aade406cc7d1"
      },
      "source": [
        "columnIndexes(spotify_data)"
      ],
      "execution_count": null,
      "outputs": [
        {
          "output_type": "stream",
          "text": [
            "Index: 0 | Column : Index\n",
            "Index: 1 | Column : Highest Charting Position\n",
            "Index: 2 | Column : Number of Times Charted\n",
            "Index: 3 | Column : Week of Highest Charting\n",
            "Index: 4 | Column : Song Name\n",
            "Index: 5 | Column : Streams\n",
            "Index: 6 | Column : Artist\n",
            "Index: 7 | Column : Artist Followers\n",
            "Index: 8 | Column : Song ID\n",
            "Index: 9 | Column : Genre\n",
            "Index: 10 | Column : Release Date\n",
            "Index: 11 | Column : Weeks Charted\n",
            "Index: 12 | Column : Popularity\n",
            "Index: 13 | Column : Danceability\n",
            "Index: 14 | Column : Energy\n",
            "Index: 15 | Column : Loudness\n",
            "Index: 16 | Column : Speechiness\n",
            "Index: 17 | Column : Acousticness\n",
            "Index: 18 | Column : Liveness\n",
            "Index: 19 | Column : Tempo\n",
            "Index: 20 | Column : Duration (ms)\n",
            "Index: 21 | Column : Valence\n",
            "Index: 22 | Column : Chord\n"
          ],
          "name": "stdout"
        }
      ]
    }
  ]
}