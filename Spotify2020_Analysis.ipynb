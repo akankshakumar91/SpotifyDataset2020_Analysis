{
  "nbformat": 4,
  "nbformat_minor": 0,
  "metadata": {
    "colab": {
      "name": "Spotify2020_Analysis.ipynb",
      "provenance": [],
      "authorship_tag": "ABX9TyP4sxKt/P9uz3P8zHjmcbEB",
      "include_colab_link": true
    },
    "kernelspec": {
      "name": "python3",
      "display_name": "Python 3"
    },
    "language_info": {
      "name": "python"
    }
  },
  "cells": [
    {
      "cell_type": "markdown",
      "metadata": {
        "id": "view-in-github",
        "colab_type": "text"
      },
      "source": [
        "<a href=\"https://colab.research.google.com/github/akankshakumar91/SpotifyDataset2020_Analysis/blob/main/Spotify2020_Analysis.ipynb\" target=\"_parent\"><img src=\"https://colab.research.google.com/assets/colab-badge.svg\" alt=\"Open In Colab\"/></a>"
      ]
    },
    {
      "cell_type": "code",
      "metadata": {
        "id": "ZgLhI6sBxEDW"
      },
      "source": [
        "import numpy as np\n",
        "import pandas as pd"
      ],
      "execution_count": 2,
      "outputs": []
    },
    {
      "cell_type": "code",
      "metadata": {
        "id": "3T3-Azj4yztb"
      },
      "source": [
        "url = 'https://raw.githubusercontent.com/akankshakumar91/SpotifyDataset2020_Analysis/main/spotify_dataset.csv'\n",
        "\n",
        "spotify_data = pd.read_csv(url)"
      ],
      "execution_count": 3,
      "outputs": []
    },
    {
      "cell_type": "code",
      "metadata": {
        "colab": {
          "base_uri": "https://localhost:8080/"
        },
        "id": "juVkfvFXzYPf",
        "outputId": "27f1ed63-e03d-4323-dfe1-392eac07d201"
      },
      "source": [
        "spotify_data.columns"
      ],
      "execution_count": 7,
      "outputs": [
        {
          "output_type": "execute_result",
          "data": {
            "text/plain": [
              "Index(['Index', 'Highest Charting Position', 'Number of Times Charted',\n",
              "       'Week of Highest Charting', 'Song Name', 'Streams', 'Artist',\n",
              "       'Artist Followers', 'Song ID', 'Genre', 'Release Date', 'Weeks Charted',\n",
              "       'Popularity', 'Danceability', 'Energy', 'Loudness', 'Speechiness',\n",
              "       'Acousticness', 'Liveness', 'Tempo', 'Duration (ms)', 'Valence',\n",
              "       'Chord'],\n",
              "      dtype='object')"
            ]
          },
          "metadata": {},
          "execution_count": 7
        }
      ]
    },
    {
      "cell_type": "code",
      "metadata": {
        "colab": {
          "base_uri": "https://localhost:8080/",
          "height": 297
        },
        "id": "l3JCnrcIUx5X",
        "outputId": "b20bdd81-cdcd-4e82-e199-79945d68ade4"
      },
      "source": [
        "spotify_data.describe()"
      ],
      "execution_count": 6,
      "outputs": [
        {
          "output_type": "execute_result",
          "data": {
            "text/html": [
              "<div>\n",
              "<style scoped>\n",
              "    .dataframe tbody tr th:only-of-type {\n",
              "        vertical-align: middle;\n",
              "    }\n",
              "\n",
              "    .dataframe tbody tr th {\n",
              "        vertical-align: top;\n",
              "    }\n",
              "\n",
              "    .dataframe thead th {\n",
              "        text-align: right;\n",
              "    }\n",
              "</style>\n",
              "<table border=\"1\" class=\"dataframe\">\n",
              "  <thead>\n",
              "    <tr style=\"text-align: right;\">\n",
              "      <th></th>\n",
              "      <th>Index</th>\n",
              "      <th>Highest Charting Position</th>\n",
              "      <th>Number of Times Charted</th>\n",
              "    </tr>\n",
              "  </thead>\n",
              "  <tbody>\n",
              "    <tr>\n",
              "      <th>count</th>\n",
              "      <td>1556.000000</td>\n",
              "      <td>1556.000000</td>\n",
              "      <td>1556.000000</td>\n",
              "    </tr>\n",
              "    <tr>\n",
              "      <th>mean</th>\n",
              "      <td>778.500000</td>\n",
              "      <td>87.744216</td>\n",
              "      <td>10.668380</td>\n",
              "    </tr>\n",
              "    <tr>\n",
              "      <th>std</th>\n",
              "      <td>449.322824</td>\n",
              "      <td>58.147225</td>\n",
              "      <td>16.360546</td>\n",
              "    </tr>\n",
              "    <tr>\n",
              "      <th>min</th>\n",
              "      <td>1.000000</td>\n",
              "      <td>1.000000</td>\n",
              "      <td>1.000000</td>\n",
              "    </tr>\n",
              "    <tr>\n",
              "      <th>25%</th>\n",
              "      <td>389.750000</td>\n",
              "      <td>37.000000</td>\n",
              "      <td>1.000000</td>\n",
              "    </tr>\n",
              "    <tr>\n",
              "      <th>50%</th>\n",
              "      <td>778.500000</td>\n",
              "      <td>80.000000</td>\n",
              "      <td>4.000000</td>\n",
              "    </tr>\n",
              "    <tr>\n",
              "      <th>75%</th>\n",
              "      <td>1167.250000</td>\n",
              "      <td>137.000000</td>\n",
              "      <td>12.000000</td>\n",
              "    </tr>\n",
              "    <tr>\n",
              "      <th>max</th>\n",
              "      <td>1556.000000</td>\n",
              "      <td>200.000000</td>\n",
              "      <td>142.000000</td>\n",
              "    </tr>\n",
              "  </tbody>\n",
              "</table>\n",
              "</div>"
            ],
            "text/plain": [
              "             Index  Highest Charting Position  Number of Times Charted\n",
              "count  1556.000000                1556.000000              1556.000000\n",
              "mean    778.500000                  87.744216                10.668380\n",
              "std     449.322824                  58.147225                16.360546\n",
              "min       1.000000                   1.000000                 1.000000\n",
              "25%     389.750000                  37.000000                 1.000000\n",
              "50%     778.500000                  80.000000                 4.000000\n",
              "75%    1167.250000                 137.000000                12.000000\n",
              "max    1556.000000                 200.000000               142.000000"
            ]
          },
          "metadata": {},
          "execution_count": 6
        }
      ]
    },
    {
      "cell_type": "code",
      "metadata": {
        "colab": {
          "base_uri": "https://localhost:8080/",
          "height": 315
        },
        "id": "FTdmHUAH4TU2",
        "outputId": "e8f8f5a8-d04f-424a-fb14-1154af9a9998"
      },
      "source": [
        "spotify_data.hist('Highest Charting Position')"
      ],
      "execution_count": 11,
      "outputs": [
        {
          "output_type": "execute_result",
          "data": {
            "text/plain": [
              "array([[<matplotlib.axes._subplots.AxesSubplot object at 0x7fe66d7c5810>]],\n",
              "      dtype=object)"
            ]
          },
          "metadata": {},
          "execution_count": 11
        },
        {
          "output_type": "display_data",
          "data": {
            "image/png": "[encoded data removed]",
            "text/plain": [
              "<Figure size 432x288 with 1 Axes>"
            ]
          },
          "metadata": {
            "needs_background": "light"
          }
        }
      ]
    },
    {
      "cell_type": "code",
      "metadata": {
        "colab": {
          "base_uri": "https://localhost:8080/"
        },
        "id": "hglSK88g4vSH",
        "outputId": "76726d94-2b8b-46c3-bfbe-38d770c8bd70"
      },
      "source": [
        "spotify_data.dtypes"
      ],
      "execution_count": 12,
      "outputs": [
        {
          "output_type": "execute_result",
          "data": {
            "text/plain": [
              "Index                         int64\n",
              "Highest Charting Position     int64\n",
              "Number of Times Charted       int64\n",
              "Week of Highest Charting     object\n",
              "Song Name                    object\n",
              "Streams                      object\n",
              "Artist                       object\n",
              "Artist Followers             object\n",
              "Song ID                      object\n",
              "Genre                        object\n",
              "Release Date                 object\n",
              "Weeks Charted                object\n",
              "Popularity                   object\n",
              "Danceability                 object\n",
              "Energy                       object\n",
              "Loudness                     object\n",
              "Speechiness                  object\n",
              "Acousticness                 object\n",
              "Liveness                     object\n",
              "Tempo                        object\n",
              "Duration (ms)                object\n",
              "Valence                      object\n",
              "Chord                        object\n",
              "dtype: object"
            ]
          },
          "metadata": {},
          "execution_count": 12
        }
      ]
    },
    {
      "cell_type": "code",
      "metadata": {
        "id": "Tkjt9Y3q4PRX"
      },
      "source": [
        ""
      ],
      "execution_count": null,
      "outputs": []
    }
  ]
}