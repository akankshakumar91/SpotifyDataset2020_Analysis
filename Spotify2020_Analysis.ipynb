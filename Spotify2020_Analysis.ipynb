{
  "nbformat": 4,
  "nbformat_minor": 0,
  "metadata": {
    "colab": {
      "name": "Spotify2020_Analysis.ipynb",
      "provenance": [],
      "authorship_tag": "ABX9TyPvug6QUDBkWHSKUIZyMCY2",
      "include_colab_link": true
    },
    "kernelspec": {
      "name": "python3",
      "display_name": "Python 3"
    },
    "language_info": {
      "name": "python"
    }
  },
  "cells": [
    {
      "cell_type": "markdown",
      "metadata": {
        "id": "view-in-github",
        "colab_type": "text"
      },
      "source": [
        "<a href=\"https://colab.research.google.com/github/akankshakumar91/SpotifyDataset2020_Analysis/blob/main/Spotify2020_Analysis.ipynb\" target=\"_parent\"><img src=\"https://colab.research.google.com/assets/colab-badge.svg\" alt=\"Open In Colab\"/></a>"
      ]
    },
    {
      "cell_type": "markdown",
      "metadata": {
        "id": "ttrhFLu-C-eU"
      },
      "source": [
        "\n",
        "\n",
        "```\n",
        "IMPORTING LIBRARIES\n",
        "```\n",
        "\n"
      ]
    },
    {
      "cell_type": "code",
      "metadata": {
        "id": "ZgLhI6sBxEDW"
      },
      "source": [
        "import numpy as np\n",
        "import pandas as pd\n",
        "\n",
        "from sklearn import preprocessing"
      ],
      "execution_count": 168,
      "outputs": []
    },
    {
      "cell_type": "code",
      "metadata": {
        "id": "3T3-Azj4yztb",
        "colab": {
          "base_uri": "https://localhost:8080/"
        },
        "outputId": "4c75153b-585a-4616-af28-56f24c251faf"
      },
      "source": [
        "url = 'https://raw.githubusercontent.com/akankshakumar91/SpotifyDataset2020_Analysis/main/spotify_dataset.csv'\n",
        "\n",
        "spotify_data = pd.read_csv(url, parse_dates=['Release Date'])\n",
        "\n",
        "df = pd.DataFrame(data=spotify_data)\n",
        "df.dtypes"
      ],
      "execution_count": 169,
      "outputs": [
        {
          "output_type": "execute_result",
          "data": {
            "text/plain": [
              "Index                         int64\n",
              "Highest Charting Position     int64\n",
              "Number of Times Charted       int64\n",
              "Week of Highest Charting     object\n",
              "Song Name                    object\n",
              "Streams                      object\n",
              "Artist                       object\n",
              "Artist Followers             object\n",
              "Song ID                      object\n",
              "Genre                        object\n",
              "Release Date                 object\n",
              "Weeks Charted                object\n",
              "Popularity                   object\n",
              "Danceability                 object\n",
              "Energy                       object\n",
              "Loudness                     object\n",
              "Speechiness                  object\n",
              "Acousticness                 object\n",
              "Liveness                     object\n",
              "Tempo                        object\n",
              "Duration (ms)                object\n",
              "Valence                      object\n",
              "Chord                        object\n",
              "dtype: object"
            ]
          },
          "metadata": {},
          "execution_count": 169
        }
      ]
    },
    {
      "cell_type": "code",
      "metadata": {
        "id": "ua6CmgUTbNNS"
      },
      "source": [
        ""
      ],
      "execution_count": null,
      "outputs": []
    },
    {
      "cell_type": "markdown",
      "metadata": {
        "id": "mJ-9NhTWbOM3"
      },
      "source": [
        "[Data Selection (Example 1)](https://www.analyseup.com/learn-python-for-data-science/python-pandas-select-drop-rename-columns.html)"
      ]
    },
    {
      "cell_type": "code",
      "metadata": {
        "colab": {
          "base_uri": "https://localhost:8080/"
        },
        "id": "juVkfvFXzYPf",
        "outputId": "d4123644-d645-4509-fd59-9ca159f746f1"
      },
      "source": [
        "df.shape"
      ],
      "execution_count": 170,
      "outputs": [
        {
          "output_type": "execute_result",
          "data": {
            "text/plain": [
              "(1556, 23)"
            ]
          },
          "metadata": {},
          "execution_count": 170
        }
      ]
    },
    {
      "cell_type": "code",
      "metadata": {
        "colab": {
          "base_uri": "https://localhost:8080/",
          "height": 297
        },
        "id": "l3JCnrcIUx5X",
        "outputId": "cd035596-7334-4196-8256-b24c6d5474c9"
      },
      "source": [
        "df.describe()"
      ],
      "execution_count": 171,
      "outputs": [
        {
          "output_type": "execute_result",
          "data": {
            "text/html": [
              "<div>\n",
              "<style scoped>\n",
              "    .dataframe tbody tr th:only-of-type {\n",
              "        vertical-align: middle;\n",
              "    }\n",
              "\n",
              "    .dataframe tbody tr th {\n",
              "        vertical-align: top;\n",
              "    }\n",
              "\n",
              "    .dataframe thead th {\n",
              "        text-align: right;\n",
              "    }\n",
              "</style>\n",
              "<table border=\"1\" class=\"dataframe\">\n",
              "  <thead>\n",
              "    <tr style=\"text-align: right;\">\n",
              "      <th></th>\n",
              "      <th>Index</th>\n",
              "      <th>Highest Charting Position</th>\n",
              "      <th>Number of Times Charted</th>\n",
              "    </tr>\n",
              "  </thead>\n",
              "  <tbody>\n",
              "    <tr>\n",
              "      <th>count</th>\n",
              "      <td>1556.000000</td>\n",
              "      <td>1556.000000</td>\n",
              "      <td>1556.000000</td>\n",
              "    </tr>\n",
              "    <tr>\n",
              "      <th>mean</th>\n",
              "      <td>778.500000</td>\n",
              "      <td>87.744216</td>\n",
              "      <td>10.668380</td>\n",
              "    </tr>\n",
              "    <tr>\n",
              "      <th>std</th>\n",
              "      <td>449.322824</td>\n",
              "      <td>58.147225</td>\n",
              "      <td>16.360546</td>\n",
              "    </tr>\n",
              "    <tr>\n",
              "      <th>min</th>\n",
              "      <td>1.000000</td>\n",
              "      <td>1.000000</td>\n",
              "      <td>1.000000</td>\n",
              "    </tr>\n",
              "    <tr>\n",
              "      <th>25%</th>\n",
              "      <td>389.750000</td>\n",
              "      <td>37.000000</td>\n",
              "      <td>1.000000</td>\n",
              "    </tr>\n",
              "    <tr>\n",
              "      <th>50%</th>\n",
              "      <td>778.500000</td>\n",
              "      <td>80.000000</td>\n",
              "      <td>4.000000</td>\n",
              "    </tr>\n",
              "    <tr>\n",
              "      <th>75%</th>\n",
              "      <td>1167.250000</td>\n",
              "      <td>137.000000</td>\n",
              "      <td>12.000000</td>\n",
              "    </tr>\n",
              "    <tr>\n",
              "      <th>max</th>\n",
              "      <td>1556.000000</td>\n",
              "      <td>200.000000</td>\n",
              "      <td>142.000000</td>\n",
              "    </tr>\n",
              "  </tbody>\n",
              "</table>\n",
              "</div>"
            ],
            "text/plain": [
              "             Index  Highest Charting Position  Number of Times Charted\n",
              "count  1556.000000                1556.000000              1556.000000\n",
              "mean    778.500000                  87.744216                10.668380\n",
              "std     449.322824                  58.147225                16.360546\n",
              "min       1.000000                   1.000000                 1.000000\n",
              "25%     389.750000                  37.000000                 1.000000\n",
              "50%     778.500000                  80.000000                 4.000000\n",
              "75%    1167.250000                 137.000000                12.000000\n",
              "max    1556.000000                 200.000000               142.000000"
            ]
          },
          "metadata": {},
          "execution_count": 171
        }
      ]
    },
    {
      "cell_type": "code",
      "metadata": {
        "colab": {
          "base_uri": "https://localhost:8080/"
        },
        "id": "d2oh6XDDapVj",
        "outputId": "be51e5ba-2143-4eac-9365-22e12a24f870"
      },
      "source": [
        "df.info()"
      ],
      "execution_count": 172,
      "outputs": [
        {
          "output_type": "stream",
          "text": [
            "<class 'pandas.core.frame.DataFrame'>\n",
            "RangeIndex: 1556 entries, 0 to 1555\n",
            "Data columns (total 23 columns):\n",
            " #   Column                     Non-Null Count  Dtype \n",
            "---  ------                     --------------  ----- \n",
            " 0   Index                      1556 non-null   int64 \n",
            " 1   Highest Charting Position  1556 non-null   int64 \n",
            " 2   Number of Times Charted    1556 non-null   int64 \n",
            " 3   Week of Highest Charting   1556 non-null   object\n",
            " 4   Song Name                  1556 non-null   object\n",
            " 5   Streams                    1556 non-null   object\n",
            " 6   Artist                     1556 non-null   object\n",
            " 7   Artist Followers           1556 non-null   object\n",
            " 8   Song ID                    1556 non-null   object\n",
            " 9   Genre                      1556 non-null   object\n",
            " 10  Release Date               1556 non-null   object\n",
            " 11  Weeks Charted              1556 non-null   object\n",
            " 12  Popularity                 1556 non-null   object\n",
            " 13  Danceability               1556 non-null   object\n",
            " 14  Energy                     1556 non-null   object\n",
            " 15  Loudness                   1556 non-null   object\n",
            " 16  Speechiness                1556 non-null   object\n",
            " 17  Acousticness               1556 non-null   object\n",
            " 18  Liveness                   1556 non-null   object\n",
            " 19  Tempo                      1556 non-null   object\n",
            " 20  Duration (ms)              1556 non-null   object\n",
            " 21  Valence                    1556 non-null   object\n",
            " 22  Chord                      1556 non-null   object\n",
            "dtypes: int64(3), object(20)\n",
            "memory usage: 279.7+ KB\n"
          ],
          "name": "stdout"
        }
      ]
    },
    {
      "cell_type": "code",
      "metadata": {
        "id": "9RUhye6vZGqE"
      },
      "source": [
        "list_quant = ['Index', 'Highest Charting Position', 'Number of Times Charted', 'Streams', 'Artist Followers', \n",
        "                'Popularity', 'Danceability', 'Energy', 'Loudness', 'Speechiness', 'Acousticness', 'Liveness', 'Tempo', 'Duration (ms)', 'Valence']\n",
        "\n",
        "list_chat = ['Week of Highest Charting', 'Song Name', 'Artist', 'Song ID', 'Genre', 'Release Date', 'Weeks Charted', 'Chord']\n",
        "\n",
        "list_dates = ['Week of Highest Charting', 'Release Date', 'Weeks Charted']\n",
        "\n",
        "list_inelig = [' ', '']"
      ],
      "execution_count": 174,
      "outputs": []
    },
    {
      "cell_type": "code",
      "metadata": {
        "id": "vOUmQ1uU_nWX"
      },
      "source": [
        "# Print column indexes for a data frame\n",
        "\n",
        "def columnIndexes(this_df):\n",
        "  for i in this_df.columns:\n",
        "    indx = this_df.columns.get_loc(i)\n",
        "    print(\"Index: {} | Column : {}\".format(indx, i))"
      ],
      "execution_count": 175,
      "outputs": []
    },
    {
      "cell_type": "code",
      "metadata": {
        "id": "Hea_uep5fv15"
      },
      "source": [
        "# remove leading & trailing spaces from column in dataframe\n",
        "\n",
        "def removeSpaceFromDf(this_df):\n",
        "  for i in this_df.columns:\n",
        "    this_df[i] = this_df[i].str.strip()\n",
        "    print('Removing space from column : {}', format(i))\n",
        "  return this_df"
      ],
      "execution_count": 201,
      "outputs": []
    },
    {
      "cell_type": "code",
      "metadata": {
        "id": "vNcOkqmsl05q"
      },
      "source": [
        "# remove leading & trailing spaces from column in dataframe\n",
        "\n",
        "def convertToNumericDf(this_df):\n",
        "  for i in this_df.columns:\n",
        "    this_df[i] = pd.to_numeric(this_df[i], errors='coerce')\n",
        "    print('Converted to numeric column : {}', format(i))\n",
        "  return this_df"
      ],
      "execution_count": 225,
      "outputs": []
    },
    {
      "cell_type": "code",
      "metadata": {
        "colab": {
          "base_uri": "https://localhost:8080/"
        },
        "id": "aR0vY3kiASxE",
        "outputId": "511b3f25-1ed0-471b-c5b7-e939119d560b"
      },
      "source": [
        "columnIndexes(spotify_data)"
      ],
      "execution_count": 176,
      "outputs": [
        {
          "output_type": "stream",
          "text": [
            "Index: 0 | Column : Index\n",
            "Index: 1 | Column : Highest Charting Position\n",
            "Index: 2 | Column : Number of Times Charted\n",
            "Index: 3 | Column : Week of Highest Charting\n",
            "Index: 4 | Column : Song Name\n",
            "Index: 5 | Column : Streams\n",
            "Index: 6 | Column : Artist\n",
            "Index: 7 | Column : Artist Followers\n",
            "Index: 8 | Column : Song ID\n",
            "Index: 9 | Column : Genre\n",
            "Index: 10 | Column : Release Date\n",
            "Index: 11 | Column : Weeks Charted\n",
            "Index: 12 | Column : Popularity\n",
            "Index: 13 | Column : Danceability\n",
            "Index: 14 | Column : Energy\n",
            "Index: 15 | Column : Loudness\n",
            "Index: 16 | Column : Speechiness\n",
            "Index: 17 | Column : Acousticness\n",
            "Index: 18 | Column : Liveness\n",
            "Index: 19 | Column : Tempo\n",
            "Index: 20 | Column : Duration (ms)\n",
            "Index: 21 | Column : Valence\n",
            "Index: 22 | Column : Chord\n"
          ],
          "name": "stdout"
        }
      ]
    },
    {
      "cell_type": "code",
      "metadata": {
        "colab": {
          "base_uri": "https://localhost:8080/"
        },
        "id": "Mfzt-rHMeLUB",
        "outputId": "5a0cdac6-91b6-4574-d56b-8ba9e403036e"
      },
      "source": [
        "\n",
        "df_temp = removeSpaceFromDf(df.iloc[:,12:21])\n",
        "df_temp.shape\n",
        "\n",
        "\n",
        "df_temp.replace(to_replace=list_inelig, value=np.NaN, inplace=True)\n",
        "df_temp.info\n",
        "df_temp.dropna\n",
        "df_temp.shape"
      ],
      "execution_count": 218,
      "outputs": [
        {
          "output_type": "stream",
          "text": [
            "Removing space from column : {} Popularity\n",
            "Removing space from column : {} Danceability\n",
            "Removing space from column : {} Energy\n",
            "Removing space from column : {} Loudness\n",
            "Removing space from column : {} Speechiness\n",
            "Removing space from column : {} Acousticness\n",
            "Removing space from column : {} Liveness\n",
            "Removing space from column : {} Tempo\n",
            "Removing space from column : {} Duration (ms)\n"
          ],
          "name": "stdout"
        },
        {
          "output_type": "execute_result",
          "data": {
            "text/plain": [
              "(1556, 9)"
            ]
          },
          "metadata": {},
          "execution_count": 218
        }
      ]
    },
    {
      "cell_type": "code",
      "metadata": {
        "colab": {
          "base_uri": "https://localhost:8080/"
        },
        "id": "VMyn2XpcebHs",
        "outputId": "c16e29cd-1770-4030-a5de-c9cd4000ee38"
      },
      "source": [
        "df_temp = convertToNumericDf(df_temp)"
      ],
      "execution_count": 228,
      "outputs": [
        {
          "output_type": "stream",
          "text": [
            "Converted to numeric column : {} Popularity\n",
            "Converted to numeric column : {} Danceability\n",
            "Converted to numeric column : {} Energy\n",
            "Converted to numeric column : {} Loudness\n",
            "Converted to numeric column : {} Speechiness\n",
            "Converted to numeric column : {} Acousticness\n",
            "Converted to numeric column : {} Liveness\n",
            "Converted to numeric column : {} Tempo\n",
            "Converted to numeric column : {} Duration (ms)\n"
          ],
          "name": "stdout"
        },
        {
          "output_type": "execute_result",
          "data": {
            "text/plain": [
              "<bound method NDFrame.describe of       Popularity  Danceability  Energy  ...  Liveness    Tempo  Duration (ms)\n",
              "0          100.0         0.714   0.800  ...    0.3590  134.002       211560.0\n",
              "1           99.0         0.591   0.764  ...    0.1030  169.928       141806.0\n",
              "2           99.0         0.563   0.664  ...    0.0849  166.928       178147.0\n",
              "3           98.0         0.808   0.897  ...    0.3640  126.026       231041.0\n",
              "4           96.0         0.736   0.704  ...    0.0501  149.995       212000.0\n",
              "...          ...           ...     ...  ...       ...      ...            ...\n",
              "1551        79.0         0.762   0.700  ...    0.1530  116.073       209320.0\n",
              "1552        66.0         0.528   0.870  ...    0.3330  152.370       181930.0\n",
              "1553        81.0         0.765   0.523  ...    0.1320  104.988       217307.0\n",
              "1554        60.0         0.832   0.550  ...    0.1820  154.064       152784.0\n",
              "1555        70.0         0.448   0.603  ...    0.0862  205.272       221307.0\n",
              "\n",
              "[1556 rows x 9 columns]>"
            ]
          },
          "metadata": {},
          "execution_count": 228
        }
      ]
    },
    {
      "cell_type": "code",
      "metadata": {
        "id": "mr5vx4ZsmU7H"
      },
      "source": [
        "df.iloc[:,12:21] = df_temp"
      ],
      "execution_count": 231,
      "outputs": []
    },
    {
      "cell_type": "code",
      "metadata": {
        "colab": {
          "base_uri": "https://localhost:8080/",
          "height": 331
        },
        "id": "K1HrYKSsnAB6",
        "outputId": "310c9410-4843-43d3-f59f-a203039810fc"
      },
      "source": [
        "df.describe()"
      ],
      "execution_count": 233,
      "outputs": [
        {
          "output_type": "execute_result",
          "data": {
            "text/html": [
              "<div>\n",
              "<style scoped>\n",
              "    .dataframe tbody tr th:only-of-type {\n",
              "        vertical-align: middle;\n",
              "    }\n",
              "\n",
              "    .dataframe tbody tr th {\n",
              "        vertical-align: top;\n",
              "    }\n",
              "\n",
              "    .dataframe thead th {\n",
              "        text-align: right;\n",
              "    }\n",
              "</style>\n",
              "<table border=\"1\" class=\"dataframe\">\n",
              "  <thead>\n",
              "    <tr style=\"text-align: right;\">\n",
              "      <th></th>\n",
              "      <th>Index</th>\n",
              "      <th>Highest Charting Position</th>\n",
              "      <th>Number of Times Charted</th>\n",
              "      <th>Popularity</th>\n",
              "      <th>Danceability</th>\n",
              "      <th>Energy</th>\n",
              "      <th>Loudness</th>\n",
              "      <th>Speechiness</th>\n",
              "      <th>Acousticness</th>\n",
              "      <th>Liveness</th>\n",
              "      <th>Tempo</th>\n",
              "      <th>Duration (ms)</th>\n",
              "    </tr>\n",
              "  </thead>\n",
              "  <tbody>\n",
              "    <tr>\n",
              "      <th>count</th>\n",
              "      <td>1556.000000</td>\n",
              "      <td>1556.000000</td>\n",
              "      <td>1556.000000</td>\n",
              "      <td>1545.000000</td>\n",
              "      <td>1545.000000</td>\n",
              "      <td>1545.000000</td>\n",
              "      <td>1545.000000</td>\n",
              "      <td>1545.000000</td>\n",
              "      <td>1545.000000</td>\n",
              "      <td>1545.000000</td>\n",
              "      <td>1545.000000</td>\n",
              "      <td>1545.000000</td>\n",
              "    </tr>\n",
              "    <tr>\n",
              "      <th>mean</th>\n",
              "      <td>778.500000</td>\n",
              "      <td>87.744216</td>\n",
              "      <td>10.668380</td>\n",
              "      <td>70.089320</td>\n",
              "      <td>0.689997</td>\n",
              "      <td>0.633495</td>\n",
              "      <td>-6.348474</td>\n",
              "      <td>0.123656</td>\n",
              "      <td>0.248695</td>\n",
              "      <td>0.181202</td>\n",
              "      <td>122.811023</td>\n",
              "      <td>197940.816828</td>\n",
              "    </tr>\n",
              "    <tr>\n",
              "      <th>std</th>\n",
              "      <td>449.322824</td>\n",
              "      <td>58.147225</td>\n",
              "      <td>16.360546</td>\n",
              "      <td>15.824034</td>\n",
              "      <td>0.142444</td>\n",
              "      <td>0.161577</td>\n",
              "      <td>2.509281</td>\n",
              "      <td>0.110383</td>\n",
              "      <td>0.250326</td>\n",
              "      <td>0.144071</td>\n",
              "      <td>29.591088</td>\n",
              "      <td>47148.930420</td>\n",
              "    </tr>\n",
              "    <tr>\n",
              "      <th>min</th>\n",
              "      <td>1.000000</td>\n",
              "      <td>1.000000</td>\n",
              "      <td>1.000000</td>\n",
              "      <td>0.000000</td>\n",
              "      <td>0.150000</td>\n",
              "      <td>0.054000</td>\n",
              "      <td>-25.166000</td>\n",
              "      <td>0.023200</td>\n",
              "      <td>0.000025</td>\n",
              "      <td>0.019700</td>\n",
              "      <td>46.718000</td>\n",
              "      <td>30133.000000</td>\n",
              "    </tr>\n",
              "    <tr>\n",
              "      <th>25%</th>\n",
              "      <td>389.750000</td>\n",
              "      <td>37.000000</td>\n",
              "      <td>1.000000</td>\n",
              "      <td>65.000000</td>\n",
              "      <td>0.599000</td>\n",
              "      <td>0.532000</td>\n",
              "      <td>-7.491000</td>\n",
              "      <td>0.045600</td>\n",
              "      <td>0.048500</td>\n",
              "      <td>0.096600</td>\n",
              "      <td>97.960000</td>\n",
              "      <td>169266.000000</td>\n",
              "    </tr>\n",
              "    <tr>\n",
              "      <th>50%</th>\n",
              "      <td>778.500000</td>\n",
              "      <td>80.000000</td>\n",
              "      <td>4.000000</td>\n",
              "      <td>73.000000</td>\n",
              "      <td>0.707000</td>\n",
              "      <td>0.642000</td>\n",
              "      <td>-5.990000</td>\n",
              "      <td>0.076500</td>\n",
              "      <td>0.161000</td>\n",
              "      <td>0.124000</td>\n",
              "      <td>122.012000</td>\n",
              "      <td>193591.000000</td>\n",
              "    </tr>\n",
              "    <tr>\n",
              "      <th>75%</th>\n",
              "      <td>1167.250000</td>\n",
              "      <td>137.000000</td>\n",
              "      <td>12.000000</td>\n",
              "      <td>80.000000</td>\n",
              "      <td>0.796000</td>\n",
              "      <td>0.752000</td>\n",
              "      <td>-4.711000</td>\n",
              "      <td>0.165000</td>\n",
              "      <td>0.388000</td>\n",
              "      <td>0.217000</td>\n",
              "      <td>143.860000</td>\n",
              "      <td>218902.000000</td>\n",
              "    </tr>\n",
              "    <tr>\n",
              "      <th>max</th>\n",
              "      <td>1556.000000</td>\n",
              "      <td>200.000000</td>\n",
              "      <td>142.000000</td>\n",
              "      <td>100.000000</td>\n",
              "      <td>0.980000</td>\n",
              "      <td>0.970000</td>\n",
              "      <td>1.509000</td>\n",
              "      <td>0.884000</td>\n",
              "      <td>0.994000</td>\n",
              "      <td>0.962000</td>\n",
              "      <td>205.272000</td>\n",
              "      <td>588139.000000</td>\n",
              "    </tr>\n",
              "  </tbody>\n",
              "</table>\n",
              "</div>"
            ],
            "text/plain": [
              "             Index  Highest Charting Position  ...        Tempo  Duration (ms)\n",
              "count  1556.000000                1556.000000  ...  1545.000000    1545.000000\n",
              "mean    778.500000                  87.744216  ...   122.811023  197940.816828\n",
              "std     449.322824                  58.147225  ...    29.591088   47148.930420\n",
              "min       1.000000                   1.000000  ...    46.718000   30133.000000\n",
              "25%     389.750000                  37.000000  ...    97.960000  169266.000000\n",
              "50%     778.500000                  80.000000  ...   122.012000  193591.000000\n",
              "75%    1167.250000                 137.000000  ...   143.860000  218902.000000\n",
              "max    1556.000000                 200.000000  ...   205.272000  588139.000000\n",
              "\n",
              "[8 rows x 12 columns]"
            ]
          },
          "metadata": {},
          "execution_count": 233
        }
      ]
    }
  ]
}